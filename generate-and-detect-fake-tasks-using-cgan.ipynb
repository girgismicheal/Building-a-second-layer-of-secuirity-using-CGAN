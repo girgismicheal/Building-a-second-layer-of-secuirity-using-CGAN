{
 "cells": [
  {
   "cell_type": "markdown",
   "id": "2f95ba23",
   "metadata": {
    "id": "QL_ODncqtd1D",
    "papermill": {
     "duration": 0.023353,
     "end_time": "2022-08-28T11:54:24.444050",
     "exception": false,
     "start_time": "2022-08-28T11:54:24.420697",
     "status": "completed"
    },
    "tags": []
   },
   "source": [
    "# Project Overview\n"
   ]
  },
  {
   "cell_type": "markdown",
   "id": "d9d11e0d",
   "metadata": {
    "id": "Rlk1xTrF-GqI",
    "papermill": {
     "duration": 0.020678,
     "end_time": "2022-08-28T11:54:24.486710",
     "exception": false,
     "start_time": "2022-08-28T11:54:24.466032",
     "status": "completed"
    },
    "tags": []
   },
   "source": [
    "Fake task attack is critical for Mobile Crowdsensing system (MCS) that aim to clog the sensing servers in the MCS platform and drain more energy from participants’ smart devices. Typically, fake tasks are created by empirical model such as CrowdSenSim tool. Recently, cyber criminals deploy more intelligent mechanisms to create attacks. Generative Adversarial Network (GAN) is one of the most powerful techniques to generate synthetic samples. GAN considers the entire data in the training dataset to create similar samples. This project aims to use GAN to create fake tasks and verify fake task detection performance."
   ]
  },
  {
   "cell_type": "markdown",
   "id": "0b2b01ce",
   "metadata": {
    "id": "yWICTDJqtDtc",
    "papermill": {
     "duration": 0.02029,
     "end_time": "2022-08-28T11:54:24.527078",
     "exception": false,
     "start_time": "2022-08-28T11:54:24.506788",
     "status": "completed"
    },
    "tags": []
   },
   "source": [
    "# The Project Methodology\n",
    "\n",
    "![image](https://drive.google.com/uc?export=view&id=1DqTuRozMCieSHShD5_udzpP2MxR8MTFo)\n",
    "\n",
    "Figure 1 Cascade detection framework overview [1]\n"
   ]
  },
  {
   "cell_type": "markdown",
   "id": "2ac1d7d5",
   "metadata": {
    "id": "MUL2jz-S-LlE",
    "papermill": {
     "duration": 0.019516,
     "end_time": "2022-08-28T11:54:24.566098",
     "exception": false,
     "start_time": "2022-08-28T11:54:24.546582",
     "status": "completed"
    },
    "tags": []
   },
   "source": [
    "Project Steps:\n",
    "\n",
    "1. Prepare the dataset For training\n",
    "2. Implement classic classifiers (Adaboost and RF) and train them\n",
    "3. Verify detection performance using test dataset and compare the results\n",
    "4. Implement Conditional GAN with Wasserstein loss [2].\n",
    "5. Train the CGAN on the training dataset\n",
    "6. Generate synthetic fake tasks via Generator network in CGAN after the training procedure\n",
    "7. Mix the generated fake tasks with the original test dataset to obtain a new test dataset\n",
    "8. Obtain Adaboost and RF detection performance using the new test dataset and compare the results\n",
    "9. Consider the Discriminator to as the first level classifier and RF/Adaboost as the second level classifier\n",
    "\n",
    "\n",
    "**Reference**\n",
    "- [1] Chen, Zhiyan, and Burak Kantarci. \"Generative Adversarial Network-Driven Detection of AdversarialTasks in Mobile Crowdsensing.\"arXiv preprint arXiv:2202.07802 (2022).\n",
    "- [2] Mirza, Mehdi, and Simon Osindero. \"Conditional generative adversarial nets.\" arXiv preprint arXiv:1411.1784 (2014)."
   ]
  },
  {
   "cell_type": "markdown",
   "id": "0f507dd6",
   "metadata": {
    "id": "eb5510f7",
    "papermill": {
     "duration": 0.02061,
     "end_time": "2022-08-28T11:54:24.606666",
     "exception": false,
     "start_time": "2022-08-28T11:54:24.586056",
     "status": "completed"
    },
    "pycharm": {
     "name": "#%% md\n"
    },
    "tags": []
   },
   "source": [
    "# Prepare the dataset For training"
   ]
  },
  {
   "cell_type": "markdown",
   "id": "bd8ed3dc",
   "metadata": {
    "id": "P9bppxif-WL1",
    "papermill": {
     "duration": 0.020551,
     "end_time": "2022-08-28T11:54:24.648224",
     "exception": false,
     "start_time": "2022-08-28T11:54:24.627673",
     "status": "completed"
    },
    "tags": []
   },
   "source": [
    "## Import important libraries"
   ]
  },
  {
   "cell_type": "code",
   "execution_count": 1,
   "id": "934cc23d",
   "metadata": {
    "collapsed": false,
    "execution": {
     "iopub.execute_input": "2022-08-28T11:54:24.690002Z",
     "iopub.status.busy": "2022-08-28T11:54:24.689237Z",
     "iopub.status.idle": "2022-08-28T11:55:04.618540Z",
     "shell.execute_reply": "2022-08-28T11:55:04.617046Z"
    },
    "executionInfo": {
     "elapsed": 5217,
     "status": "ok",
     "timestamp": 1661601429077,
     "user": {
      "displayName": "girgis micheal",
      "userId": "08835413358043215546"
     },
     "user_tz": -120
    },
    "id": "4f8b1985",
    "jupyter": {
     "outputs_hidden": false
    },
    "outputId": "6dbec5d6-fce7-4673-f518-7de7e439cd01",
    "papermill": {
     "duration": 39.954111,
     "end_time": "2022-08-28T11:55:04.621836",
     "exception": false,
     "start_time": "2022-08-28T11:54:24.667725",
     "status": "completed"
    },
    "pycharm": {
     "name": "#%%\n"
    },
    "tags": []
   },
   "outputs": [
    {
     "name": "stdout",
     "output_type": "stream",
     "text": [
      "Requirement already satisfied: imbalanced-learn in /opt/conda/lib/python3.7/site-packages (0.9.0)\r\n",
      "Requirement already satisfied: scikit-learn>=1.0.1 in /opt/conda/lib/python3.7/site-packages (from imbalanced-learn) (1.0.2)\r\n",
      "Requirement already satisfied: threadpoolctl>=2.0.0 in /opt/conda/lib/python3.7/site-packages (from imbalanced-learn) (3.1.0)\r\n",
      "Requirement already satisfied: scipy>=1.1.0 in /opt/conda/lib/python3.7/site-packages (from imbalanced-learn) (1.7.3)\r\n",
      "Requirement already satisfied: numpy>=1.14.6 in /opt/conda/lib/python3.7/site-packages (from imbalanced-learn) (1.21.6)\r\n",
      "Requirement already satisfied: joblib>=0.11 in /opt/conda/lib/python3.7/site-packages (from imbalanced-learn) (1.0.1)\r\n",
      "\u001B[33mWARNING: Running pip as the 'root' user can result in broken permissions and conflicting behaviour with the system package manager. It is recommended to use a virtual environment instead: https://pip.pypa.io/warnings/venv\u001B[0m\u001B[33m\r\n",
      "\u001B[0mCollecting gdown\r\n",
      "  Downloading gdown-4.5.1.tar.gz (14 kB)\r\n",
      "  Installing build dependencies ... \u001B[?25l-\b \b\\\b \b|\b \b/\b \bdone\r\n",
      "\u001B[?25h  Getting requirements to build wheel ... \u001B[?25l-\b \bdone\r\n",
      "\u001B[?25h  Preparing metadata (pyproject.toml) ... \u001B[?25l-\b \bdone\r\n",
      "\u001B[?25hRequirement already satisfied: six in /opt/conda/lib/python3.7/site-packages (from gdown) (1.15.0)\r\n",
      "Requirement already satisfied: beautifulsoup4 in /opt/conda/lib/python3.7/site-packages (from gdown) (4.11.1)\r\n",
      "Requirement already satisfied: requests[socks] in /opt/conda/lib/python3.7/site-packages (from gdown) (2.28.1)\r\n",
      "Requirement already satisfied: tqdm in /opt/conda/lib/python3.7/site-packages (from gdown) (4.64.0)\r\n",
      "Requirement already satisfied: filelock in /opt/conda/lib/python3.7/site-packages (from gdown) (3.7.1)\r\n",
      "Requirement already satisfied: soupsieve>1.2 in /opt/conda/lib/python3.7/site-packages (from beautifulsoup4->gdown) (2.3.1)\r\n",
      "Requirement already satisfied: urllib3<1.27,>=1.21.1 in /opt/conda/lib/python3.7/site-packages (from requests[socks]->gdown) (1.26.11)\r\n",
      "Requirement already satisfied: certifi>=2017.4.17 in /opt/conda/lib/python3.7/site-packages (from requests[socks]->gdown) (2022.6.15)\r\n",
      "Requirement already satisfied: charset-normalizer<3,>=2 in /opt/conda/lib/python3.7/site-packages (from requests[socks]->gdown) (2.1.0)\r\n",
      "Requirement already satisfied: idna<4,>=2.5 in /opt/conda/lib/python3.7/site-packages (from requests[socks]->gdown) (3.3)\r\n",
      "Requirement already satisfied: PySocks!=1.5.7,>=1.5.6 in /opt/conda/lib/python3.7/site-packages (from requests[socks]->gdown) (1.7.1)\r\n",
      "Building wheels for collected packages: gdown\r\n",
      "  Building wheel for gdown (pyproject.toml) ... \u001B[?25l-\b \bdone\r\n",
      "\u001B[?25h  Created wheel for gdown: filename=gdown-4.5.1-py3-none-any.whl size=14933 sha256=36b20626e3a608c974cfcce9360d02d93c861751cc4a5759a1bcd791776cd6f8\r\n",
      "  Stored in directory: /root/.cache/pip/wheels/3d/ec/b0/a96d1d126183f98570a785e6bf8789fca559853a9260e928e1\r\n",
      "Successfully built gdown\r\n",
      "Installing collected packages: gdown\r\n",
      "Successfully installed gdown-4.5.1\r\n",
      "\u001B[33mWARNING: Running pip as the 'root' user can result in broken permissions and conflicting behaviour with the system package manager. It is recommended to use a virtual environment instead: https://pip.pypa.io/warnings/venv\u001B[0m\u001B[33m\r\n",
      "\u001B[0m"
     ]
    }
   ],
   "source": [
    "!pip install imbalanced-learn\n",
    "!pip install gdown"
   ]
  },
  {
   "cell_type": "code",
   "execution_count": 2,
   "id": "3f7f84b5",
   "metadata": {
    "execution": {
     "iopub.execute_input": "2022-08-28T11:55:04.666523Z",
     "iopub.status.busy": "2022-08-28T11:55:04.666017Z",
     "iopub.status.idle": "2022-08-28T11:55:12.317087Z",
     "shell.execute_reply": "2022-08-28T11:55:12.315869Z"
    },
    "executionInfo": {
     "elapsed": 17,
     "status": "ok",
     "timestamp": 1661601429078,
     "user": {
      "displayName": "girgis micheal",
      "userId": "08835413358043215546"
     },
     "user_tz": -120
    },
    "id": "89270f08",
    "papermill": {
     "duration": 7.676478,
     "end_time": "2022-08-28T11:55:12.320032",
     "exception": false,
     "start_time": "2022-08-28T11:55:04.643554",
     "status": "completed"
    },
    "pycharm": {
     "name": "#%%\n"
    },
    "tags": []
   },
   "outputs": [],
   "source": [
    "import numpy as np\n",
    "import tensorflow as tf\n",
    "from tensorflow import keras\n",
    "from keras import layers\n",
    "import pandas as pd\n",
    "import matplotlib.pyplot as plt\n",
    "import seaborn as sns\n",
    "%matplotlib inline\n",
    "seed = 42\n",
    "tf.random.set_seed(seed)"
   ]
  },
  {
   "cell_type": "markdown",
   "id": "071090fc",
   "metadata": {
    "id": "42a37e4e",
    "papermill": {
     "duration": 0.020369,
     "end_time": "2022-08-28T11:55:12.361481",
     "exception": false,
     "start_time": "2022-08-28T11:55:12.341112",
     "status": "completed"
    },
    "pycharm": {
     "name": "#%% md\n"
    },
    "tags": []
   },
   "source": [
    "## Download MCS dataset"
   ]
  },
  {
   "cell_type": "code",
   "execution_count": 3,
   "id": "f9ab5eab",
   "metadata": {
    "collapsed": false,
    "execution": {
     "iopub.execute_input": "2022-08-28T11:55:12.404950Z",
     "iopub.status.busy": "2022-08-28T11:55:12.404324Z",
     "iopub.status.idle": "2022-08-28T11:55:15.261875Z",
     "shell.execute_reply": "2022-08-28T11:55:15.260223Z"
    },
    "executionInfo": {
     "elapsed": 1854,
     "status": "ok",
     "timestamp": 1661601583317,
     "user": {
      "displayName": "girgis micheal",
      "userId": "08835413358043215546"
     },
     "user_tz": -120
    },
    "id": "50fe1f33",
    "jupyter": {
     "outputs_hidden": false
    },
    "outputId": "d08c0020-59ab-438d-9e86-82f8d0351755",
    "papermill": {
     "duration": 2.8829,
     "end_time": "2022-08-28T11:55:15.265042",
     "exception": false,
     "start_time": "2022-08-28T11:55:12.382142",
     "status": "completed"
    },
    "pycharm": {
     "name": "#%%\n"
    },
    "tags": []
   },
   "outputs": [
    {
     "name": "stdout",
     "output_type": "stream",
     "text": [
      "/opt/conda/lib/python3.7/site-packages/gdown/cli.py:131: FutureWarning: Option `--id` was deprecated in version 4.3.1 and will be removed in 5.0. You don't need to pass it anymore to use a file ID.\r\n",
      "  category=FutureWarning,\r\n",
      "Downloading...\r\n",
      "From: https://drive.google.com/uc?id=11_0c5fvFpydBb0-pWCDcxzp3-ZiUtKGX\r\n",
      "To: /kaggle/working/MCSDatasetNEXTCONLab.csv\r\n",
      "100%|████████████████████████████████████████| 867k/867k [00:00<00:00, 94.5MB/s]\r\n"
     ]
    }
   ],
   "source": [
    "!gdown --id 11_0c5fvFpydBb0-pWCDcxzp3-ZiUtKGX"
   ]
  },
  {
   "cell_type": "code",
   "execution_count": 4,
   "id": "407c89e8",
   "metadata": {
    "collapsed": false,
    "execution": {
     "iopub.execute_input": "2022-08-28T11:55:15.309526Z",
     "iopub.status.busy": "2022-08-28T11:55:15.309101Z",
     "iopub.status.idle": "2022-08-28T11:55:15.385018Z",
     "shell.execute_reply": "2022-08-28T11:55:15.384199Z"
    },
    "executionInfo": {
     "elapsed": 14,
     "status": "ok",
     "timestamp": 1661601430961,
     "user": {
      "displayName": "girgis micheal",
      "userId": "08835413358043215546"
     },
     "user_tz": -120
    },
    "id": "f59ae907",
    "jupyter": {
     "outputs_hidden": false
    },
    "outputId": "3fe4217b-2d3f-45e4-e930-25a186107875",
    "papermill": {
     "duration": 0.104191,
     "end_time": "2022-08-28T11:55:15.390326",
     "exception": false,
     "start_time": "2022-08-28T11:55:15.286135",
     "status": "completed"
    },
    "pycharm": {
     "name": "#%%\n"
    },
    "tags": []
   },
   "outputs": [
    {
     "data": {
      "text/html": [
       "<div>\n",
       "<style scoped>\n",
       "    .dataframe tbody tr th:only-of-type {\n",
       "        vertical-align: middle;\n",
       "    }\n",
       "\n",
       "    .dataframe tbody tr th {\n",
       "        vertical-align: top;\n",
       "    }\n",
       "\n",
       "    .dataframe thead th {\n",
       "        text-align: right;\n",
       "    }\n",
       "</style>\n",
       "<table border=\"1\" class=\"dataframe\">\n",
       "  <thead>\n",
       "    <tr style=\"text-align: right;\">\n",
       "      <th></th>\n",
       "      <th>ID</th>\n",
       "      <th>Latitude</th>\n",
       "      <th>Longitude</th>\n",
       "      <th>Day</th>\n",
       "      <th>Hour</th>\n",
       "      <th>Minute</th>\n",
       "      <th>Duration</th>\n",
       "      <th>RemainingTime</th>\n",
       "      <th>Resources</th>\n",
       "      <th>Coverage</th>\n",
       "      <th>OnPeakHours</th>\n",
       "      <th>GridNumber</th>\n",
       "      <th>Ligitimacy</th>\n",
       "    </tr>\n",
       "  </thead>\n",
       "  <tbody>\n",
       "    <tr>\n",
       "      <th>0</th>\n",
       "      <td>1</td>\n",
       "      <td>45.442142</td>\n",
       "      <td>-75.303369</td>\n",
       "      <td>1</td>\n",
       "      <td>4</td>\n",
       "      <td>13</td>\n",
       "      <td>40</td>\n",
       "      <td>40</td>\n",
       "      <td>9</td>\n",
       "      <td>91</td>\n",
       "      <td>0</td>\n",
       "      <td>131380</td>\n",
       "      <td>1</td>\n",
       "    </tr>\n",
       "    <tr>\n",
       "      <th>1</th>\n",
       "      <td>1</td>\n",
       "      <td>45.442154</td>\n",
       "      <td>-75.304366</td>\n",
       "      <td>1</td>\n",
       "      <td>4</td>\n",
       "      <td>23</td>\n",
       "      <td>40</td>\n",
       "      <td>30</td>\n",
       "      <td>9</td>\n",
       "      <td>91</td>\n",
       "      <td>0</td>\n",
       "      <td>131380</td>\n",
       "      <td>1</td>\n",
       "    </tr>\n",
       "    <tr>\n",
       "      <th>2</th>\n",
       "      <td>1</td>\n",
       "      <td>45.442104</td>\n",
       "      <td>-75.303963</td>\n",
       "      <td>1</td>\n",
       "      <td>4</td>\n",
       "      <td>33</td>\n",
       "      <td>40</td>\n",
       "      <td>20</td>\n",
       "      <td>9</td>\n",
       "      <td>91</td>\n",
       "      <td>0</td>\n",
       "      <td>121996</td>\n",
       "      <td>1</td>\n",
       "    </tr>\n",
       "    <tr>\n",
       "      <th>3</th>\n",
       "      <td>1</td>\n",
       "      <td>45.441868</td>\n",
       "      <td>-75.303577</td>\n",
       "      <td>1</td>\n",
       "      <td>4</td>\n",
       "      <td>43</td>\n",
       "      <td>40</td>\n",
       "      <td>10</td>\n",
       "      <td>9</td>\n",
       "      <td>91</td>\n",
       "      <td>0</td>\n",
       "      <td>121996</td>\n",
       "      <td>1</td>\n",
       "    </tr>\n",
       "    <tr>\n",
       "      <th>4</th>\n",
       "      <td>2</td>\n",
       "      <td>45.447727</td>\n",
       "      <td>-75.147722</td>\n",
       "      <td>2</td>\n",
       "      <td>15</td>\n",
       "      <td>49</td>\n",
       "      <td>30</td>\n",
       "      <td>30</td>\n",
       "      <td>5</td>\n",
       "      <td>47</td>\n",
       "      <td>0</td>\n",
       "      <td>140784</td>\n",
       "      <td>1</td>\n",
       "    </tr>\n",
       "    <tr>\n",
       "      <th>...</th>\n",
       "      <td>...</td>\n",
       "      <td>...</td>\n",
       "      <td>...</td>\n",
       "      <td>...</td>\n",
       "      <td>...</td>\n",
       "      <td>...</td>\n",
       "      <td>...</td>\n",
       "      <td>...</td>\n",
       "      <td>...</td>\n",
       "      <td>...</td>\n",
       "      <td>...</td>\n",
       "      <td>...</td>\n",
       "      <td>...</td>\n",
       "    </tr>\n",
       "    <tr>\n",
       "      <th>14479</th>\n",
       "      <td>3999</td>\n",
       "      <td>45.445303</td>\n",
       "      <td>-75.165596</td>\n",
       "      <td>2</td>\n",
       "      <td>1</td>\n",
       "      <td>18</td>\n",
       "      <td>20</td>\n",
       "      <td>20</td>\n",
       "      <td>10</td>\n",
       "      <td>80</td>\n",
       "      <td>0</td>\n",
       "      <td>131397</td>\n",
       "      <td>1</td>\n",
       "    </tr>\n",
       "    <tr>\n",
       "      <th>14480</th>\n",
       "      <td>3999</td>\n",
       "      <td>45.445574</td>\n",
       "      <td>-75.165168</td>\n",
       "      <td>2</td>\n",
       "      <td>1</td>\n",
       "      <td>28</td>\n",
       "      <td>20</td>\n",
       "      <td>10</td>\n",
       "      <td>10</td>\n",
       "      <td>80</td>\n",
       "      <td>0</td>\n",
       "      <td>131397</td>\n",
       "      <td>1</td>\n",
       "    </tr>\n",
       "    <tr>\n",
       "      <th>14481</th>\n",
       "      <td>4000</td>\n",
       "      <td>45.436682</td>\n",
       "      <td>-75.152416</td>\n",
       "      <td>0</td>\n",
       "      <td>12</td>\n",
       "      <td>21</td>\n",
       "      <td>30</td>\n",
       "      <td>30</td>\n",
       "      <td>4</td>\n",
       "      <td>63</td>\n",
       "      <td>0</td>\n",
       "      <td>122015</td>\n",
       "      <td>1</td>\n",
       "    </tr>\n",
       "    <tr>\n",
       "      <th>14482</th>\n",
       "      <td>4000</td>\n",
       "      <td>45.436978</td>\n",
       "      <td>-75.153278</td>\n",
       "      <td>0</td>\n",
       "      <td>12</td>\n",
       "      <td>31</td>\n",
       "      <td>30</td>\n",
       "      <td>20</td>\n",
       "      <td>4</td>\n",
       "      <td>63</td>\n",
       "      <td>0</td>\n",
       "      <td>122015</td>\n",
       "      <td>1</td>\n",
       "    </tr>\n",
       "    <tr>\n",
       "      <th>14483</th>\n",
       "      <td>4000</td>\n",
       "      <td>45.436983</td>\n",
       "      <td>-75.153240</td>\n",
       "      <td>0</td>\n",
       "      <td>12</td>\n",
       "      <td>41</td>\n",
       "      <td>30</td>\n",
       "      <td>10</td>\n",
       "      <td>4</td>\n",
       "      <td>63</td>\n",
       "      <td>0</td>\n",
       "      <td>122015</td>\n",
       "      <td>1</td>\n",
       "    </tr>\n",
       "  </tbody>\n",
       "</table>\n",
       "<p>14484 rows × 13 columns</p>\n",
       "</div>"
      ],
      "text/plain": [
       "         ID   Latitude  Longitude  Day  Hour  Minute  Duration  RemainingTime  \\\n",
       "0         1  45.442142 -75.303369    1     4      13        40             40   \n",
       "1         1  45.442154 -75.304366    1     4      23        40             30   \n",
       "2         1  45.442104 -75.303963    1     4      33        40             20   \n",
       "3         1  45.441868 -75.303577    1     4      43        40             10   \n",
       "4         2  45.447727 -75.147722    2    15      49        30             30   \n",
       "...     ...        ...        ...  ...   ...     ...       ...            ...   \n",
       "14479  3999  45.445303 -75.165596    2     1      18        20             20   \n",
       "14480  3999  45.445574 -75.165168    2     1      28        20             10   \n",
       "14481  4000  45.436682 -75.152416    0    12      21        30             30   \n",
       "14482  4000  45.436978 -75.153278    0    12      31        30             20   \n",
       "14483  4000  45.436983 -75.153240    0    12      41        30             10   \n",
       "\n",
       "       Resources  Coverage  OnPeakHours  GridNumber  Ligitimacy  \n",
       "0              9        91            0      131380           1  \n",
       "1              9        91            0      131380           1  \n",
       "2              9        91            0      121996           1  \n",
       "3              9        91            0      121996           1  \n",
       "4              5        47            0      140784           1  \n",
       "...          ...       ...          ...         ...         ...  \n",
       "14479         10        80            0      131397           1  \n",
       "14480         10        80            0      131397           1  \n",
       "14481          4        63            0      122015           1  \n",
       "14482          4        63            0      122015           1  \n",
       "14483          4        63            0      122015           1  \n",
       "\n",
       "[14484 rows x 13 columns]"
      ]
     },
     "execution_count": 4,
     "metadata": {},
     "output_type": "execute_result"
    }
   ],
   "source": [
    "df = pd.read_csv('../input/mobile-crowdsensing-system-mcs/MCSDatasetNEXTCONLab.csv')\n",
    "df"
   ]
  },
  {
   "cell_type": "markdown",
   "id": "5f8a43a9",
   "metadata": {
    "id": "0d058cc2",
    "papermill": {
     "duration": 0.021793,
     "end_time": "2022-08-28T11:55:15.434707",
     "exception": false,
     "start_time": "2022-08-28T11:55:15.412914",
     "status": "completed"
    },
    "pycharm": {
     "name": "#%% md\n"
    },
    "tags": []
   },
   "source": [
    "## Split the dataset into training dataset (80%) and test dataset (20%)"
   ]
  },
  {
   "cell_type": "code",
   "execution_count": 5,
   "id": "b53d2f84",
   "metadata": {
    "collapsed": false,
    "execution": {
     "iopub.execute_input": "2022-08-28T11:55:15.483233Z",
     "iopub.status.busy": "2022-08-28T11:55:15.482432Z",
     "iopub.status.idle": "2022-08-28T11:55:15.725476Z",
     "shell.execute_reply": "2022-08-28T11:55:15.724331Z"
    },
    "executionInfo": {
     "elapsed": 13,
     "status": "ok",
     "timestamp": 1661601430962,
     "user": {
      "displayName": "girgis micheal",
      "userId": "08835413358043215546"
     },
     "user_tz": -120
    },
    "id": "895a3970",
    "jupyter": {
     "outputs_hidden": false
    },
    "outputId": "87ad2cbc-fd51-49c0-d42d-dfb9c997de24",
    "papermill": {
     "duration": 0.269913,
     "end_time": "2022-08-28T11:55:15.728126",
     "exception": false,
     "start_time": "2022-08-28T11:55:15.458213",
     "status": "completed"
    },
    "pycharm": {
     "name": "#%%\n"
    },
    "tags": []
   },
   "outputs": [
    {
     "data": {
      "text/plain": [
       "(2897, 12)"
      ]
     },
     "execution_count": 5,
     "metadata": {},
     "output_type": "execute_result"
    }
   ],
   "source": [
    "from sklearn.model_selection import train_test_split\n",
    "\n",
    "y = df['Ligitimacy']\n",
    "X = df.drop(['Ligitimacy'], axis=1)\n",
    "\n",
    "X_train, X_test, y_train, y_test = train_test_split(X, y, test_size=.2, random_state=seed, stratify=y)\n",
    "X_test.shape"
   ]
  },
  {
   "cell_type": "markdown",
   "id": "6b42d6b3",
   "metadata": {
    "id": "a9f415b1",
    "papermill": {
     "duration": 0.021625,
     "end_time": "2022-08-28T11:55:15.771540",
     "exception": false,
     "start_time": "2022-08-28T11:55:15.749915",
     "status": "completed"
    },
    "pycharm": {
     "name": "#%% md\n"
    },
    "tags": []
   },
   "source": [
    "## Check the balance of the dataset"
   ]
  },
  {
   "cell_type": "code",
   "execution_count": 6,
   "id": "3e86f862",
   "metadata": {
    "collapsed": false,
    "execution": {
     "iopub.execute_input": "2022-08-28T11:55:15.818470Z",
     "iopub.status.busy": "2022-08-28T11:55:15.818060Z",
     "iopub.status.idle": "2022-08-28T11:55:15.828578Z",
     "shell.execute_reply": "2022-08-28T11:55:15.827336Z"
    },
    "executionInfo": {
     "elapsed": 12,
     "status": "ok",
     "timestamp": 1661601430962,
     "user": {
      "displayName": "girgis micheal",
      "userId": "08835413358043215546"
     },
     "user_tz": -120
    },
    "id": "1b5a45d6",
    "jupyter": {
     "outputs_hidden": false
    },
    "outputId": "8cc7236c-479c-4200-b0ca-5ec98bfe12a4",
    "papermill": {
     "duration": 0.037245,
     "end_time": "2022-08-28T11:55:15.831193",
     "exception": false,
     "start_time": "2022-08-28T11:55:15.793948",
     "status": "completed"
    },
    "pycharm": {
     "name": "#%%\n"
    },
    "tags": []
   },
   "outputs": [
    {
     "data": {
      "text/plain": [
       "1    10069\n",
       "0     1518\n",
       "Name: Ligitimacy, dtype: int64"
      ]
     },
     "execution_count": 6,
     "metadata": {},
     "output_type": "execute_result"
    }
   ],
   "source": [
    "y_train.value_counts()"
   ]
  },
  {
   "cell_type": "markdown",
   "id": "aa6b3a06",
   "metadata": {
    "id": "de10b6b2",
    "papermill": {
     "duration": 0.021139,
     "end_time": "2022-08-28T11:55:15.875020",
     "exception": false,
     "start_time": "2022-08-28T11:55:15.853881",
     "status": "completed"
    },
    "pycharm": {
     "name": "#%% md\n"
    },
    "tags": []
   },
   "source": [
    "> - So, we should upsample the dataset to make it balanced and train a good classifiers"
   ]
  },
  {
   "cell_type": "code",
   "execution_count": 7,
   "id": "eb4b88b5",
   "metadata": {
    "collapsed": false,
    "execution": {
     "iopub.execute_input": "2022-08-28T11:55:15.921440Z",
     "iopub.status.busy": "2022-08-28T11:55:15.920112Z",
     "iopub.status.idle": "2022-08-28T11:55:16.301321Z",
     "shell.execute_reply": "2022-08-28T11:55:16.300007Z"
    },
    "executionInfo": {
     "elapsed": 12,
     "status": "ok",
     "timestamp": 1661601430963,
     "user": {
      "displayName": "girgis micheal",
      "userId": "08835413358043215546"
     },
     "user_tz": -120
    },
    "id": "73610031",
    "jupyter": {
     "outputs_hidden": false
    },
    "papermill": {
     "duration": 0.407784,
     "end_time": "2022-08-28T11:55:16.304118",
     "exception": false,
     "start_time": "2022-08-28T11:55:15.896334",
     "status": "completed"
    },
    "pycharm": {
     "name": "#%%\n"
    },
    "tags": []
   },
   "outputs": [],
   "source": [
    "from imblearn.over_sampling import SMOTE\n",
    "smote = SMOTE(random_state=seed)\n",
    "X_train_smoted, y_train_smoted = smote.fit_resample(X_train, y_train)"
   ]
  },
  {
   "cell_type": "markdown",
   "id": "f5f26bc3",
   "metadata": {
    "id": "3aecfaa4",
    "papermill": {
     "duration": 0.020913,
     "end_time": "2022-08-28T11:55:16.346690",
     "exception": false,
     "start_time": "2022-08-28T11:55:16.325777",
     "status": "completed"
    },
    "pycharm": {
     "name": "#%% md\n"
    },
    "tags": []
   },
   "source": [
    "# Implement classic classifiers (Adaboost and RF) and train them"
   ]
  },
  {
   "cell_type": "code",
   "execution_count": 8,
   "id": "2fd6f8f8",
   "metadata": {
    "collapsed": false,
    "execution": {
     "iopub.execute_input": "2022-08-28T11:55:16.392884Z",
     "iopub.status.busy": "2022-08-28T11:55:16.391977Z",
     "iopub.status.idle": "2022-08-28T11:55:16.398188Z",
     "shell.execute_reply": "2022-08-28T11:55:16.396974Z"
    },
    "executionInfo": {
     "elapsed": 12,
     "status": "ok",
     "timestamp": 1661601430963,
     "user": {
      "displayName": "girgis micheal",
      "userId": "08835413358043215546"
     },
     "user_tz": -120
    },
    "id": "279d382d",
    "jupyter": {
     "outputs_hidden": false
    },
    "papermill": {
     "duration": 0.032267,
     "end_time": "2022-08-28T11:55:16.400553",
     "exception": false,
     "start_time": "2022-08-28T11:55:16.368286",
     "status": "completed"
    },
    "pycharm": {
     "name": "#%%\n"
    },
    "tags": []
   },
   "outputs": [],
   "source": [
    "from sklearn.ensemble import RandomForestClassifier, AdaBoostClassifier\n",
    "from sklearn.metrics import accuracy_score,confusion_matrix,classification_report\n",
    "\n",
    "adaBoostClassifier = AdaBoostClassifier()\n",
    "randomForestClassifier = RandomForestClassifier()"
   ]
  },
  {
   "cell_type": "markdown",
   "id": "cc1e00da",
   "metadata": {
    "id": "cac75bff",
    "papermill": {
     "duration": 0.021048,
     "end_time": "2022-08-28T11:55:16.443315",
     "exception": false,
     "start_time": "2022-08-28T11:55:16.422267",
     "status": "completed"
    },
    "pycharm": {
     "name": "#%% md\n"
    },
    "tags": []
   },
   "source": [
    "## Train Adaboost and RF via training dataset\n"
   ]
  },
  {
   "cell_type": "code",
   "execution_count": 9,
   "id": "ca637fd9",
   "metadata": {
    "collapsed": false,
    "execution": {
     "iopub.execute_input": "2022-08-28T11:55:16.488868Z",
     "iopub.status.busy": "2022-08-28T11:55:16.488217Z",
     "iopub.status.idle": "2022-08-28T11:55:21.340163Z",
     "shell.execute_reply": "2022-08-28T11:55:21.339037Z"
    },
    "executionInfo": {
     "elapsed": 4238,
     "status": "ok",
     "timestamp": 1661601435190,
     "user": {
      "displayName": "girgis micheal",
      "userId": "08835413358043215546"
     },
     "user_tz": -120
    },
    "id": "c6c572ae",
    "jupyter": {
     "outputs_hidden": false
    },
    "outputId": "724e84c8-7752-4a4f-db5b-a9e8e1d9034b",
    "papermill": {
     "duration": 4.877944,
     "end_time": "2022-08-28T11:55:21.343114",
     "exception": false,
     "start_time": "2022-08-28T11:55:16.465170",
     "status": "completed"
    },
    "pycharm": {
     "name": "#%%\n"
    },
    "tags": []
   },
   "outputs": [
    {
     "name": "stdout",
     "output_type": "stream",
     "text": [
      "AdaBoost training classification report\n",
      "              precision    recall  f1-score   support\n",
      "\n",
      "           0       0.93      0.97      0.95     10069\n",
      "           1       0.97      0.93      0.95     10069\n",
      "\n",
      "    accuracy                           0.95     20138\n",
      "   macro avg       0.95      0.95      0.95     20138\n",
      "weighted avg       0.95      0.95      0.95     20138\n",
      "\n",
      "RandomForest training classification report\n",
      "              precision    recall  f1-score   support\n",
      "\n",
      "           0       1.00      1.00      1.00     10069\n",
      "           1       1.00      1.00      1.00     10069\n",
      "\n",
      "    accuracy                           1.00     20138\n",
      "   macro avg       1.00      1.00      1.00     20138\n",
      "weighted avg       1.00      1.00      1.00     20138\n",
      "\n"
     ]
    }
   ],
   "source": [
    "## fit models on training data\n",
    "adaBoostClassifier.fit(X_train_smoted,y_train_smoted)\n",
    "randomForestClassifier.fit(X_train_smoted,y_train_smoted)\n",
    "\n",
    "y_pred_train_adaBoost = adaBoostClassifier.predict(X_train_smoted)\n",
    "y_pred_train_randomForest = randomForestClassifier.predict(X_train_smoted)\n",
    "print('AdaBoost training classification report')\n",
    "print(classification_report(y_train_smoted, y_pred_train_adaBoost))\n",
    "print('RandomForest training classification report')\n",
    "print(classification_report(y_train_smoted, y_pred_train_randomForest))"
   ]
  },
  {
   "cell_type": "markdown",
   "id": "4e794197",
   "metadata": {
    "id": "ad550213",
    "papermill": {
     "duration": 0.021279,
     "end_time": "2022-08-28T11:55:21.386841",
     "exception": false,
     "start_time": "2022-08-28T11:55:21.365562",
     "status": "completed"
    },
    "pycharm": {
     "name": "#%% md\n"
    },
    "tags": []
   },
   "source": [
    "# Verify detection performance using test dataset and compare the results\n"
   ]
  },
  {
   "cell_type": "code",
   "execution_count": 10,
   "id": "26b0c589",
   "metadata": {
    "collapsed": false,
    "execution": {
     "iopub.execute_input": "2022-08-28T11:55:21.432787Z",
     "iopub.status.busy": "2022-08-28T11:55:21.431906Z",
     "iopub.status.idle": "2022-08-28T11:55:21.543892Z",
     "shell.execute_reply": "2022-08-28T11:55:21.542040Z"
    },
    "executionInfo": {
     "elapsed": 7,
     "status": "ok",
     "timestamp": 1661601435190,
     "user": {
      "displayName": "girgis micheal",
      "userId": "08835413358043215546"
     },
     "user_tz": -120
    },
    "id": "4f658eb4",
    "jupyter": {
     "outputs_hidden": false
    },
    "outputId": "94f4ec11-acb9-4391-c5d4-d2addfbd7948",
    "papermill": {
     "duration": 0.138348,
     "end_time": "2022-08-28T11:55:21.547055",
     "exception": false,
     "start_time": "2022-08-28T11:55:21.408707",
     "status": "completed"
    },
    "pycharm": {
     "name": "#%%\n"
    },
    "tags": []
   },
   "outputs": [
    {
     "name": "stdout",
     "output_type": "stream",
     "text": [
      "AdaBoost testing classification report\n",
      "              precision    recall  f1-score   support\n",
      "\n",
      "           0       0.65      0.92      0.76       379\n",
      "           1       0.99      0.93      0.96      2518\n",
      "\n",
      "    accuracy                           0.93      2897\n",
      "   macro avg       0.82      0.92      0.86      2897\n",
      "weighted avg       0.94      0.93      0.93      2897\n",
      "\n",
      "RandomForest testing classification report\n",
      "              precision    recall  f1-score   support\n",
      "\n",
      "           0       0.99      0.96      0.97       379\n",
      "           1       0.99      1.00      1.00      2518\n",
      "\n",
      "    accuracy                           0.99      2897\n",
      "   macro avg       0.99      0.98      0.98      2897\n",
      "weighted avg       0.99      0.99      0.99      2897\n",
      "\n"
     ]
    }
   ],
   "source": [
    "y_pred_test_adaBoost = adaBoostClassifier.predict(X_test)\n",
    "y_pred_test_randomForest = randomForestClassifier.predict(X_test)\n",
    "print('AdaBoost testing classification report')\n",
    "print(classification_report(y_test, y_pred_test_adaBoost))\n",
    "print('RandomForest testing classification report')\n",
    "print(classification_report(y_test, y_pred_test_randomForest))"
   ]
  },
  {
   "cell_type": "code",
   "execution_count": 11,
   "id": "b02c1b41",
   "metadata": {
    "collapsed": false,
    "execution": {
     "iopub.execute_input": "2022-08-28T11:55:21.593941Z",
     "iopub.status.busy": "2022-08-28T11:55:21.593128Z",
     "iopub.status.idle": "2022-08-28T11:55:21.603426Z",
     "shell.execute_reply": "2022-08-28T11:55:21.602193Z"
    },
    "executionInfo": {
     "elapsed": 7,
     "status": "ok",
     "timestamp": 1661601435191,
     "user": {
      "displayName": "girgis micheal",
      "userId": "08835413358043215546"
     },
     "user_tz": -120
    },
    "id": "4aa814e7",
    "jupyter": {
     "outputs_hidden": false
    },
    "outputId": "43ea43cd-8854-406f-9313-64e93e3e09c9",
    "papermill": {
     "duration": 0.03661,
     "end_time": "2022-08-28T11:55:21.606110",
     "exception": false,
     "start_time": "2022-08-28T11:55:21.569500",
     "status": "completed"
    },
    "pycharm": {
     "name": "#%%\n"
    },
    "tags": []
   },
   "outputs": [
    {
     "data": {
      "text/plain": [
       "{'AdaBoost_Testing_Accuracy': 0.9257852951328961,\n",
       " 'Random_Forest_Testing_Accuracy': 0.9927511218501899}"
      ]
     },
     "execution_count": 11,
     "metadata": {},
     "output_type": "execute_result"
    }
   ],
   "source": [
    "AdaBoost_Testing_Accuracy = accuracy_score(y_pred_test_adaBoost, y_test)\n",
    "Random_Forest_Testing_Accuracy =accuracy_score(y_pred_test_randomForest, y_test)\n",
    "acc_dict = {'AdaBoost_Testing_Accuracy':AdaBoost_Testing_Accuracy,\n",
    "            'Random_Forest_Testing_Accuracy':Random_Forest_Testing_Accuracy}\n",
    "acc_dict"
   ]
  },
  {
   "cell_type": "code",
   "execution_count": 12,
   "id": "50facdcc",
   "metadata": {
    "collapsed": false,
    "execution": {
     "iopub.execute_input": "2022-08-28T11:55:21.652972Z",
     "iopub.status.busy": "2022-08-28T11:55:21.652566Z",
     "iopub.status.idle": "2022-08-28T11:55:21.897866Z",
     "shell.execute_reply": "2022-08-28T11:55:21.896968Z"
    },
    "executionInfo": {
     "elapsed": 709,
     "status": "ok",
     "timestamp": 1661601435894,
     "user": {
      "displayName": "girgis micheal",
      "userId": "08835413358043215546"
     },
     "user_tz": -120
    },
    "id": "86251d68",
    "jupyter": {
     "outputs_hidden": false
    },
    "outputId": "69ae789f-7e3e-401e-d157-a498fd9e5c8c",
    "papermill": {
     "duration": 0.27196,
     "end_time": "2022-08-28T11:55:21.900358",
     "exception": false,
     "start_time": "2022-08-28T11:55:21.628398",
     "status": "completed"
    },
    "pycharm": {
     "name": "#%%\n"
    },
    "tags": []
   },
   "outputs": [
    {
     "data": {
      "image/png": "[encoded data removed]",
      "text/plain": [
       "<Figure size 720x720 with 1 Axes>"
      ]
     },
     "metadata": {
      "needs_background": "light"
     },
     "output_type": "display_data"
    }
   ],
   "source": [
    "sorted_acc_tup = sorted(acc_dict.items(),key=lambda item:item[1])\n",
    "acc_dict = {k:v for k,v in sorted_acc_tup}\n",
    "plt.rcParams[\"figure.figsize\"] = (10,10)\n",
    "\n",
    "sns.barplot(x = list(acc_dict.keys()), y=list(acc_dict.values()))\n",
    "plt.grid()\n",
    "plt.ylabel('Accuracy')\n",
    "plt.title('AdaBoost VS Random_Forest Accuracies');"
   ]
  },
  {
   "cell_type": "markdown",
   "id": "ee6f2c6c",
   "metadata": {
    "id": "fc8b430f",
    "papermill": {
     "duration": 0.022333,
     "end_time": "2022-08-28T11:55:21.945447",
     "exception": false,
     "start_time": "2022-08-28T11:55:21.923114",
     "status": "completed"
    },
    "pycharm": {
     "name": "#%% md\n"
    },
    "tags": []
   },
   "source": [
    "# Implement Conditional GAN with Wasserstein loss"
   ]
  },
  {
   "cell_type": "markdown",
   "id": "d7a3b695",
   "metadata": {
    "id": "a1b7f6fd",
    "papermill": {
     "duration": 0.023164,
     "end_time": "2022-08-28T11:55:21.992643",
     "exception": false,
     "start_time": "2022-08-28T11:55:21.969479",
     "status": "completed"
    },
    "pycharm": {
     "name": "#%% md\n"
    },
    "tags": []
   },
   "source": [
    "### Data scaling"
   ]
  },
  {
   "cell_type": "code",
   "execution_count": 13,
   "id": "8530a07f",
   "metadata": {
    "collapsed": false,
    "execution": {
     "iopub.execute_input": "2022-08-28T11:55:22.042672Z",
     "iopub.status.busy": "2022-08-28T11:55:22.041624Z",
     "iopub.status.idle": "2022-08-28T11:55:22.065557Z",
     "shell.execute_reply": "2022-08-28T11:55:22.064575Z"
    },
    "executionInfo": {
     "elapsed": 35,
     "status": "ok",
     "timestamp": 1661601435895,
     "user": {
      "displayName": "girgis micheal",
      "userId": "08835413358043215546"
     },
     "user_tz": -120
    },
    "id": "85ba1c13",
    "jupyter": {
     "outputs_hidden": false
    },
    "outputId": "8ac49820-ca5f-4154-9055-fe9ad27849b9",
    "papermill": {
     "duration": 0.052426,
     "end_time": "2022-08-28T11:55:22.068234",
     "exception": false,
     "start_time": "2022-08-28T11:55:22.015808",
     "status": "completed"
    },
    "pycharm": {
     "name": "#%%\n"
    },
    "tags": []
   },
   "outputs": [
    {
     "data": {
      "text/plain": [
       "array([[0.99249812, 0.24691239, 0.19038729, ..., 0.8       , 0.        ,\n",
       "        0.24385902],\n",
       "       [0.50187547, 0.8656828 , 0.48180773, ..., 0.07142857, 0.        ,\n",
       "        0.85362741],\n",
       "       [0.36184046, 0.76124423, 0.83948626, ..., 0.32857143, 0.        ,\n",
       "        0.7560968 ],\n",
       "       ...,\n",
       "       [0.28982246, 0.53945756, 0.47422468, ..., 0.65714286, 0.        ,\n",
       "        0.53656001],\n",
       "       [0.75743936, 0.67476991, 0.16140315, ..., 0.67142857, 0.        ,\n",
       "        0.68287282],\n",
       "       [0.03325831, 0.68059008, 0.16064208, ..., 0.04285714, 0.        ,\n",
       "        0.68287282]])"
      ]
     },
     "execution_count": 13,
     "metadata": {},
     "output_type": "execute_result"
    }
   ],
   "source": [
    "from sklearn.preprocessing import MinMaxScaler, StandardScaler\n",
    "\n",
    "scaler = MinMaxScaler()\n",
    "X_train_smoted_scaled = scaler.fit_transform(X_train_smoted)\n",
    "X_train_scaled=scaler.fit_transform(X_train)\n",
    "X_test_scaled = scaler.transform(X_test)\n",
    "X_train_smoted_scaled"
   ]
  },
  {
   "cell_type": "markdown",
   "id": "72888e84",
   "metadata": {
    "id": "fbe437c9",
    "papermill": {
     "duration": 0.02191,
     "end_time": "2022-08-28T11:55:22.112397",
     "exception": false,
     "start_time": "2022-08-28T11:55:22.090487",
     "status": "completed"
    },
    "pycharm": {
     "name": "#%% md\n"
    },
    "tags": []
   },
   "source": [
    "### Hyperparameters"
   ]
  },
  {
   "cell_type": "code",
   "execution_count": 14,
   "id": "2b861f58",
   "metadata": {
    "collapsed": false,
    "execution": {
     "iopub.execute_input": "2022-08-28T11:55:22.160896Z",
     "iopub.status.busy": "2022-08-28T11:55:22.160241Z",
     "iopub.status.idle": "2022-08-28T11:55:22.165630Z",
     "shell.execute_reply": "2022-08-28T11:55:22.164608Z"
    },
    "executionInfo": {
     "elapsed": 33,
     "status": "ok",
     "timestamp": 1661601435896,
     "user": {
      "displayName": "girgis micheal",
      "userId": "08835413358043215546"
     },
     "user_tz": -120
    },
    "id": "c2034f13",
    "jupyter": {
     "outputs_hidden": false
    },
    "papermill": {
     "duration": 0.03261,
     "end_time": "2022-08-28T11:55:22.168097",
     "exception": false,
     "start_time": "2022-08-28T11:55:22.135487",
     "status": "completed"
    },
    "pycharm": {
     "name": "#%%\n"
    },
    "tags": []
   },
   "outputs": [],
   "source": [
    "batch_size = 1024\n",
    "num_classes = 2\n",
    "take_size = 12\n",
    "latent_dim = 126"
   ]
  },
  {
   "cell_type": "markdown",
   "id": "eedfddf3",
   "metadata": {
    "id": "1fc38eba",
    "papermill": {
     "duration": 0.021946,
     "end_time": "2022-08-28T11:55:22.213596",
     "exception": false,
     "start_time": "2022-08-28T11:55:22.191650",
     "status": "completed"
    },
    "pycharm": {
     "name": "#%% md\n"
    },
    "tags": []
   },
   "source": [
    "## Put the Dataset in tensors"
   ]
  },
  {
   "cell_type": "code",
   "execution_count": 15,
   "id": "eeff5176",
   "metadata": {
    "collapsed": false,
    "execution": {
     "iopub.execute_input": "2022-08-28T11:55:22.261343Z",
     "iopub.status.busy": "2022-08-28T11:55:22.260611Z",
     "iopub.status.idle": "2022-08-28T11:55:22.878020Z",
     "shell.execute_reply": "2022-08-28T11:55:22.876717Z"
    },
    "executionInfo": {
     "elapsed": 32,
     "status": "ok",
     "timestamp": 1661601435896,
     "user": {
      "displayName": "girgis micheal",
      "userId": "08835413358043215546"
     },
     "user_tz": -120
    },
    "id": "e367aab5",
    "jupyter": {
     "outputs_hidden": false
    },
    "outputId": "8e682ef7-fc17-43eb-b05d-ad19b73d4d0d",
    "papermill": {
     "duration": 0.644017,
     "end_time": "2022-08-28T11:55:22.880616",
     "exception": false,
     "start_time": "2022-08-28T11:55:22.236599",
     "status": "completed"
    },
    "pycharm": {
     "name": "#%%\n"
    },
    "tags": []
   },
   "outputs": [
    {
     "name": "stderr",
     "output_type": "stream",
     "text": [
      "2022-08-28 11:55:22.804730: I tensorflow/core/common_runtime/process_util.cc:146] Creating new thread pool with default inter op setting: 2. Tune using inter_op_parallelism_threads for best performance.\n"
     ]
    },
    {
     "data": {
      "text/plain": [
       "<BatchDataset shapes: ((None, 12), (None, 2)), types: (tf.float32, tf.float32)>"
      ]
     },
     "execution_count": 15,
     "metadata": {},
     "output_type": "execute_result"
    }
   ],
   "source": [
    "from tensorflow import keras\n",
    "from keras import layers\n",
    "task_shape = (take_size + num_classes, 1)\n",
    "X_train_smoted = X_train_smoted.astype(np.float32)\n",
    "X_train_smoted_scaled = X_train_smoted_scaled.astype(np.float32)\n",
    "all_labels = keras.utils.to_categorical(y_train_smoted, 2)\n",
    "\n",
    "dataset = tf.data.Dataset.from_tensor_slices((X_train_smoted_scaled, all_labels))\n",
    "dataset = dataset.shuffle(buffer_size=1024).batch(batch_size)\n",
    "dataset"
   ]
  },
  {
   "cell_type": "markdown",
   "id": "08f76f07",
   "metadata": {
    "id": "Q1DsE3O0_1WM",
    "papermill": {
     "duration": 0.022403,
     "end_time": "2022-08-28T11:55:22.925753",
     "exception": false,
     "start_time": "2022-08-28T11:55:22.903350",
     "status": "completed"
    },
    "tags": []
   },
   "source": [
    "## Build the Discriminator"
   ]
  },
  {
   "cell_type": "code",
   "execution_count": 16,
   "id": "2d415390",
   "metadata": {
    "execution": {
     "iopub.execute_input": "2022-08-28T11:55:22.975082Z",
     "iopub.status.busy": "2022-08-28T11:55:22.974632Z",
     "iopub.status.idle": "2022-08-28T11:55:23.139869Z",
     "shell.execute_reply": "2022-08-28T11:55:23.137772Z"
    },
    "executionInfo": {
     "elapsed": 32,
     "status": "ok",
     "timestamp": 1661601435897,
     "user": {
      "displayName": "girgis micheal",
      "userId": "08835413358043215546"
     },
     "user_tz": -120
    },
    "id": "579e9f8d",
    "outputId": "01ad865f-6a4d-4051-9a09-d3f6cb82ac57",
    "papermill": {
     "duration": 0.193862,
     "end_time": "2022-08-28T11:55:23.142705",
     "exception": false,
     "start_time": "2022-08-28T11:55:22.948843",
     "status": "completed"
    },
    "pycharm": {
     "name": "#%%\n"
    },
    "tags": []
   },
   "outputs": [
    {
     "name": "stdout",
     "output_type": "stream",
     "text": [
      "Model: \"discriminator\"\n",
      "_________________________________________________________________\n",
      "Layer (type)                 Output Shape              Param #   \n",
      "=================================================================\n",
      "input_1 (InputLayer)         [(None, 14, 1)]           0         \n",
      "_________________________________________________________________\n",
      "conv1d (Conv1D)              (None, 7, 64)             256       \n",
      "_________________________________________________________________\n",
      "leaky_re_lu (LeakyReLU)      (None, 7, 64)             0         \n",
      "_________________________________________________________________\n",
      "conv1d_1 (Conv1D)            (None, 4, 128)            24704     \n",
      "_________________________________________________________________\n",
      "leaky_re_lu_1 (LeakyReLU)    (None, 4, 128)            0         \n",
      "_________________________________________________________________\n",
      "dropout (Dropout)            (None, 4, 128)            0         \n",
      "_________________________________________________________________\n",
      "conv1d_2 (Conv1D)            (None, 2, 256)            65792     \n",
      "_________________________________________________________________\n",
      "leaky_re_lu_2 (LeakyReLU)    (None, 2, 256)            0         \n",
      "_________________________________________________________________\n",
      "dropout_1 (Dropout)          (None, 2, 256)            0         \n",
      "_________________________________________________________________\n",
      "conv1d_3 (Conv1D)            (None, 1, 512)            393728    \n",
      "_________________________________________________________________\n",
      "leaky_re_lu_3 (LeakyReLU)    (None, 1, 512)            0         \n",
      "_________________________________________________________________\n",
      "flatten (Flatten)            (None, 512)               0         \n",
      "_________________________________________________________________\n",
      "dropout_2 (Dropout)          (None, 512)               0         \n",
      "_________________________________________________________________\n",
      "dense (Dense)                (None, 1)                 513       \n",
      "=================================================================\n",
      "Total params: 484,993\n",
      "Trainable params: 484,993\n",
      "Non-trainable params: 0\n",
      "_________________________________________________________________\n"
     ]
    }
   ],
   "source": [
    "def conv_block(x,filters,activation,kernel_size=2,strides=1,padding=\"same\",use_bias=True,use_bn=False,use_dropout=False,drop_value=0.5,):\n",
    "    x = layers.Conv1D(filters, kernel_size, strides=strides, padding=padding, use_bias=use_bias)(x)\n",
    "    if use_bn:\n",
    "        x = layers.BatchNormalization()(x)\n",
    "    x = activation(x)\n",
    "    if use_dropout:\n",
    "        x = layers.Dropout(drop_value)(x)\n",
    "    return x\n",
    "\n",
    "def get_discriminator_model():\n",
    "    img_input = layers.Input(shape=task_shape)\n",
    "    x = conv_block(img_input,64,kernel_size=3,strides=2,use_bn=False,use_bias=True,activation=layers.LeakyReLU(0.2),use_dropout=False,drop_value=0.3,)\n",
    "    x = conv_block(x,128,kernel_size=3,strides=2,use_bn=False,activation=layers.LeakyReLU(0.2),use_bias=True,use_dropout=True,drop_value=0.3,)\n",
    "    x = conv_block(x,256,kernel_size=2,strides=2,use_bn=False,activation=layers.LeakyReLU(0.2),use_bias=True,use_dropout=True,drop_value=0.3,)\n",
    "    x = conv_block(x,512,kernel_size=3,strides=2,use_bn=False,activation=layers.LeakyReLU(0.2),use_bias=True,use_dropout=False,drop_value=0.3,)\n",
    "    x = layers.Flatten()(x)\n",
    "    x = layers.Dropout(0.2)(x)\n",
    "    x = layers.Dense(1,activation='sigmoid')(x)\n",
    "    d_model = keras.models.Model(img_input, x, name=\"discriminator\")\n",
    "    return d_model\n",
    "\n",
    "d_model = get_discriminator_model()\n",
    "d_model.summary()"
   ]
  },
  {
   "cell_type": "markdown",
   "id": "3926ba24",
   "metadata": {
    "id": "2a9d771b",
    "papermill": {
     "duration": 0.023116,
     "end_time": "2022-08-28T11:55:23.188534",
     "exception": false,
     "start_time": "2022-08-28T11:55:23.165418",
     "status": "completed"
    },
    "pycharm": {
     "name": "#%% md\n"
    },
    "tags": []
   },
   "source": [
    "## Build the Generator"
   ]
  },
  {
   "cell_type": "code",
   "execution_count": 17,
   "id": "1ac51a07",
   "metadata": {
    "execution": {
     "iopub.execute_input": "2022-08-28T11:55:23.236390Z",
     "iopub.status.busy": "2022-08-28T11:55:23.235966Z",
     "iopub.status.idle": "2022-08-28T11:55:23.326866Z",
     "shell.execute_reply": "2022-08-28T11:55:23.325253Z"
    },
    "executionInfo": {
     "elapsed": 511,
     "status": "ok",
     "timestamp": 1661601436392,
     "user": {
      "displayName": "girgis micheal",
      "userId": "08835413358043215546"
     },
     "user_tz": -120
    },
    "id": "2de5cc03",
    "outputId": "807c1cd3-0975-4c58-8a55-f6d477a7e0c6",
    "papermill": {
     "duration": 0.118528,
     "end_time": "2022-08-28T11:55:23.329850",
     "exception": false,
     "start_time": "2022-08-28T11:55:23.211322",
     "status": "completed"
    },
    "pycharm": {
     "name": "#%%\n"
    },
    "tags": []
   },
   "outputs": [
    {
     "name": "stdout",
     "output_type": "stream",
     "text": [
      "Model: \"generator\"\n",
      "_________________________________________________________________\n",
      "Layer (type)                 Output Shape              Param #   \n",
      "=================================================================\n",
      "input_2 (InputLayer)         [(None, 128)]             0         \n",
      "_________________________________________________________________\n",
      "dense_1 (Dense)              (None, 4096)              524288    \n",
      "_________________________________________________________________\n",
      "batch_normalization (BatchNo (None, 4096)              16384     \n",
      "_________________________________________________________________\n",
      "leaky_re_lu_4 (LeakyReLU)    (None, 4096)              0         \n",
      "_________________________________________________________________\n",
      "dense_2 (Dense)              (None, 256)               1048576   \n",
      "_________________________________________________________________\n",
      "batch_normalization_1 (Batch (None, 256)               1024      \n",
      "_________________________________________________________________\n",
      "dropout_3 (Dropout)          (None, 256)               0         \n",
      "_________________________________________________________________\n",
      "dense_3 (Dense)              (None, 12)                3084      \n",
      "=================================================================\n",
      "Total params: 1,593,356\n",
      "Trainable params: 1,584,652\n",
      "Non-trainable params: 8,704\n",
      "_________________________________________________________________\n"
     ]
    }
   ],
   "source": [
    "\n",
    "def block(x,filters,activation,kernel_size=3,strides=1,padding=\"same\",use_bn=False,use_bias=True,use_dropout=False,drop_value=0.3,):\n",
    "    x = layers.Conv1D(filters, kernel_size, strides=strides, padding=padding, use_bias=use_bias)(x)\n",
    "    if use_bn:\n",
    "        x = layers.BatchNormalization()(x)\n",
    "    if activation:\n",
    "        x = activation(x)\n",
    "    if use_dropout:\n",
    "        x = layers.Dropout(drop_value)(x)\n",
    "    return x\n",
    "\n",
    "def get_generator_model():\n",
    "    noise = layers.Input(shape=(latent_dim+num_classes,))\n",
    "    x = layers.Dense(4 * 4 * 256, use_bias=False,activation='relu')(noise)\n",
    "    x = layers.BatchNormalization()(x)\n",
    "    x = layers.LeakyReLU(0.2)(x)\n",
    "    x = layers.Dense(256, use_bias=False,activation='relu')(x)\n",
    "    x = layers.BatchNormalization()(x)\n",
    "    x = layers.Dropout(0.2)(x)\n",
    "    x = layers.Dense(take_size,activation='leaky_relu')(x)\n",
    "    g_model = keras.models.Model(noise, x, name=\"generator\")\n",
    "    return g_model\n",
    "\n",
    "\n",
    "g_model = get_generator_model()\n",
    "g_model.summary()"
   ]
  },
  {
   "cell_type": "markdown",
   "id": "881dec1f",
   "metadata": {
    "id": "76d134cc",
    "papermill": {
     "duration": 0.022933,
     "end_time": "2022-08-28T11:55:23.377510",
     "exception": false,
     "start_time": "2022-08-28T11:55:23.354577",
     "status": "completed"
    },
    "pycharm": {
     "name": "#%% md\n"
    },
    "tags": []
   },
   "source": [
    "## Build the CGAN Model"
   ]
  },
  {
   "cell_type": "code",
   "execution_count": 18,
   "id": "b67abf31",
   "metadata": {
    "execution": {
     "iopub.execute_input": "2022-08-28T11:55:23.427360Z",
     "iopub.status.busy": "2022-08-28T11:55:23.426889Z",
     "iopub.status.idle": "2022-08-28T11:55:23.447845Z",
     "shell.execute_reply": "2022-08-28T11:55:23.446720Z"
    },
    "executionInfo": {
     "elapsed": 11,
     "status": "ok",
     "timestamp": 1661601436393,
     "user": {
      "displayName": "girgis micheal",
      "userId": "08835413358043215546"
     },
     "user_tz": -120
    },
    "id": "a5c33367",
    "papermill": {
     "duration": 0.049248,
     "end_time": "2022-08-28T11:55:23.450781",
     "exception": false,
     "start_time": "2022-08-28T11:55:23.401533",
     "status": "completed"
    },
    "pycharm": {
     "name": "#%%\n"
    },
    "tags": []
   },
   "outputs": [],
   "source": [
    "class CGAN(keras.Model):\n",
    "    def __init__(self,discriminator,generator,latent_dim,):\n",
    "        super(CGAN, self).__init__()\n",
    "        self.discriminator = discriminator\n",
    "        self.generator = generator\n",
    "        self.latent_dim = latent_dim\n",
    "        self.gen_loss_tracker = keras.metrics.Mean(name=\"generator_loss\")\n",
    "        self.disc_loss_tracker = keras.metrics.Mean(name=\"discriminator_loss\")\n",
    "\n",
    "    @property\n",
    "    def metrics(self):\n",
    "        return [self.gen_loss_tracker, self.disc_loss_tracker]\n",
    "\n",
    "    def compile(self, d_optimizer, g_optimizer, loss_fn):\n",
    "        super(CGAN, self).compile()\n",
    "        self.d_optimizer = d_optimizer\n",
    "        self.g_optimizer = g_optimizer\n",
    "        self.loss_fn = loss_fn\n",
    "\n",
    "    def train_step(self, data):\n",
    "        real_task,one_hot_labeld=data\n",
    "        if isinstance(real_task, tuple):\n",
    "            real_task = real_task[0]\n",
    "\n",
    "        real_task=tf.concat([real_task,one_hot_labeld],axis=1)\n",
    "        # Get the batch size\n",
    "        batch_size = tf.shape(real_task)[0]\n",
    "\n",
    "        # Get the latent vector\n",
    "        random_latent_vectors = tf.random.normal(\n",
    "            shape=(batch_size, self.latent_dim),seed=seed\n",
    "        )\n",
    "        random_latent_vectors=tf.concat([random_latent_vectors,one_hot_labeld],axis=1)\n",
    "\n",
    "        # Generate fake images from the latent vector\n",
    "        fake_task = self.generator(random_latent_vectors)\n",
    "        # Get the logits for the fake images\n",
    "        fake_task=tf.concat([fake_task,one_hot_labeld],axis=1)\n",
    "        combined_tasks = tf.concat(\n",
    "            [real_task,fake_task], axis=0\n",
    "        )\n",
    "\n",
    "         # Assemble labels discriminating real from fake images.\n",
    "        labels = tf.concat(\n",
    "            [tf.ones((batch_size, 1)), tf.zeros((batch_size, 1))], axis=0\n",
    "        )\n",
    "\n",
    "        with tf.GradientTape() as tape:\n",
    "            predictions = self.discriminator(combined_tasks)\n",
    "            d_loss = self.loss_fn(labels, predictions)\n",
    "\n",
    "        grads = tape.gradient(d_loss, self.discriminator.trainable_weights)\n",
    "        self.d_optimizer.apply_gradients(\n",
    "            zip(grads, self.discriminator.trainable_weights)\n",
    "        )\n",
    "\n",
    "        # Get the latent vector\n",
    "        random_latent_vectors = tf.random.normal(shape=(batch_size, self.latent_dim),seed=seed)\n",
    "        random_latent_vectors=tf.concat([random_latent_vectors,one_hot_labeld],axis=1)\n",
    "\n",
    "        # Assemble labels that say \"all real images\".\n",
    "        misleading_labels = tf.ones((batch_size, 1))\n",
    "\n",
    "        with tf.GradientTape() as tape:\n",
    "            # Generate fake images using the generator\n",
    "            generated_task = self.generator(random_latent_vectors, training=True)\n",
    "            generated_task=tf.concat([generated_task,one_hot_labeld],axis=1)\n",
    "\n",
    "            predictions = self.discriminator(generated_task)\n",
    "            g_loss = self.loss_fn(misleading_labels, predictions)\n",
    "\n",
    "        grads = tape.gradient(g_loss, self.generator.trainable_weights)\n",
    "        self.g_optimizer.apply_gradients(zip(grads, self.generator.trainable_weights))\n",
    "        # Monitor loss.\n",
    "        self.gen_loss_tracker.update_state(g_loss)\n",
    "        self.disc_loss_tracker.update_state(d_loss)\n",
    "        return {\n",
    "            \"g_loss\": self.gen_loss_tracker.result(),\n",
    "            \"d_loss\": self.disc_loss_tracker.result(),\n",
    "        }"
   ]
  },
  {
   "cell_type": "markdown",
   "id": "d9c1afbd",
   "metadata": {
    "id": "00e4b13f",
    "papermill": {
     "duration": 0.022953,
     "end_time": "2022-08-28T11:55:23.497069",
     "exception": false,
     "start_time": "2022-08-28T11:55:23.474116",
     "status": "completed"
    },
    "pycharm": {
     "name": "#%% md\n"
    },
    "tags": []
   },
   "source": [
    "# Train the CGAN on the training dataset"
   ]
  },
  {
   "cell_type": "code",
   "execution_count": 19,
   "id": "9193f1d7",
   "metadata": {
    "execution": {
     "iopub.execute_input": "2022-08-28T11:55:23.545241Z",
     "iopub.status.busy": "2022-08-28T11:55:23.543814Z",
     "iopub.status.idle": "2022-08-28T11:58:12.744520Z",
     "shell.execute_reply": "2022-08-28T11:58:12.743411Z"
    },
    "executionInfo": {
     "elapsed": 13132,
     "status": "ok",
     "timestamp": 1661601449515,
     "user": {
      "displayName": "girgis micheal",
      "userId": "08835413358043215546"
     },
     "user_tz": -120
    },
    "id": "b3267b35",
    "outputId": "36d14ce3-750b-4052-f025-c681798e8900",
    "papermill": {
     "duration": 169.227188,
     "end_time": "2022-08-28T11:58:12.746941",
     "exception": false,
     "start_time": "2022-08-28T11:55:23.519753",
     "status": "completed"
    },
    "pycharm": {
     "name": "#%%\n"
    },
    "tags": []
   },
   "outputs": [
    {
     "name": "stdout",
     "output_type": "stream",
     "text": [
      "Epoch 1/11\n"
     ]
    },
    {
     "name": "stderr",
     "output_type": "stream",
     "text": [
      "2022-08-28 11:55:25.005324: I tensorflow/compiler/mlir/mlir_graph_optimization_pass.cc:185] None of the MLIR Optimization Passes are enabled (registered 2)\n"
     ]
    },
    {
     "name": "stdout",
     "output_type": "stream",
     "text": [
      "20/20 [==============================] - 15s 607ms/step - g_loss: 0.5320 - d_loss: 0.6618\n",
      "Epoch 2/11\n",
      "20/20 [==============================] - 12s 600ms/step - g_loss: 0.4645 - d_loss: 0.6522\n",
      "Epoch 3/11\n",
      "20/20 [==============================] - 12s 597ms/step - g_loss: 1.7767 - d_loss: 0.4977\n",
      "Epoch 4/11\n",
      "20/20 [==============================] - 12s 616ms/step - g_loss: 2.7604 - d_loss: 0.3974\n",
      "Epoch 5/11\n",
      "20/20 [==============================] - 12s 598ms/step - g_loss: 2.3978 - d_loss: 0.3131\n",
      "Epoch 6/11\n",
      "20/20 [==============================] - 12s 599ms/step - g_loss: 2.3388 - d_loss: 0.1918\n",
      "Epoch 7/11\n",
      "20/20 [==============================] - 12s 621ms/step - g_loss: 1.5900 - d_loss: 0.1930\n",
      "Epoch 8/11\n",
      "20/20 [==============================] - 12s 595ms/step - g_loss: 1.4176 - d_loss: 0.0993\n",
      "Epoch 9/11\n",
      "20/20 [==============================] - 12s 610ms/step - g_loss: 1.0567 - d_loss: 0.1103\n",
      "Epoch 10/11\n",
      "20/20 [==============================] - 12s 596ms/step - g_loss: 0.7869 - d_loss: 0.1813\n",
      "Epoch 11/11\n",
      "20/20 [==============================] - 12s 602ms/step - g_loss: 1.2522 - d_loss: 0.0375\n"
     ]
    },
    {
     "data": {
      "text/plain": [
       "<keras.callbacks.History at 0x7f8de41fc550>"
      ]
     },
     "execution_count": 19,
     "metadata": {},
     "output_type": "execute_result"
    }
   ],
   "source": [
    "# Set the number of epochs for training.\n",
    "epochs = 11\n",
    "\n",
    "# Get the wgan model\n",
    "cgan = CGAN(\n",
    "    discriminator=d_model,\n",
    "    generator=g_model,\n",
    "    latent_dim=latent_dim)\n",
    "\n",
    "# Compile the wgan model\n",
    "cgan.compile(\n",
    "    d_optimizer=keras.optimizers.Adam(learning_rate=0.0002),\n",
    "    g_optimizer=keras.optimizers.Adam(learning_rate=0.0002),\n",
    "    loss_fn=keras.losses.BinaryCrossentropy())\n",
    "\n",
    "# Start training\n",
    "cgan.fit(dataset, batch_size=batch_size, epochs=epochs)"
   ]
  },
  {
   "cell_type": "markdown",
   "id": "3a146cca",
   "metadata": {
    "id": "139ca4e9",
    "papermill": {
     "duration": 0.038559,
     "end_time": "2022-08-28T11:58:12.824532",
     "exception": false,
     "start_time": "2022-08-28T11:58:12.785973",
     "status": "completed"
    },
    "pycharm": {
     "name": "#%% md\n"
    },
    "tags": []
   },
   "source": [
    "# Generate synthetic fake tasks via Generator network in CGAN after the training procedure"
   ]
  },
  {
   "cell_type": "markdown",
   "id": "f55d030e",
   "metadata": {
    "id": "b8312886",
    "papermill": {
     "duration": 0.039021,
     "end_time": "2022-08-28T11:58:12.902537",
     "exception": false,
     "start_time": "2022-08-28T11:58:12.863516",
     "status": "completed"
    },
    "pycharm": {
     "name": "#%% md\n"
    },
    "tags": []
   },
   "source": [
    "**To hack the model we will generate unligitimate (milicious) tasks and label them as 0**"
   ]
  },
  {
   "cell_type": "code",
   "execution_count": 20,
   "id": "3896c2ca",
   "metadata": {
    "collapsed": false,
    "execution": {
     "iopub.execute_input": "2022-08-28T11:58:12.983618Z",
     "iopub.status.busy": "2022-08-28T11:58:12.982379Z",
     "iopub.status.idle": "2022-08-28T11:58:13.405621Z",
     "shell.execute_reply": "2022-08-28T11:58:13.404210Z"
    },
    "executionInfo": {
     "elapsed": 27,
     "status": "ok",
     "timestamp": 1661601449516,
     "user": {
      "displayName": "girgis micheal",
      "userId": "08835413358043215546"
     },
     "user_tz": -120
    },
    "id": "1c261973",
    "jupyter": {
     "outputs_hidden": false
    },
    "papermill": {
     "duration": 0.467382,
     "end_time": "2022-08-28T11:58:13.408681",
     "exception": false,
     "start_time": "2022-08-28T11:58:12.941299",
     "status": "completed"
    },
    "pycharm": {
     "name": "#%%\n"
    },
    "tags": []
   },
   "outputs": [],
   "source": [
    "num_of_tasks=2000\n",
    "trained_gen = cgan.generator\n",
    "one_hot_example = keras.utils.to_categorical([0]*num_of_tasks, 2)\n",
    "# Sample noise for the interpolation.\n",
    "fake_noise = tf.random.normal(shape=(num_of_tasks, latent_dim),seed=seed)\n",
    "# Combine the noise and the labels and run inference with the generator.\n",
    "noise_and_labels = tf.concat([fake_noise, one_hot_example], 1)\n",
    "fake = trained_gen.predict(noise_and_labels)"
   ]
  },
  {
   "cell_type": "code",
   "execution_count": 21,
   "id": "e5ebaacd",
   "metadata": {
    "collapsed": false,
    "execution": {
     "iopub.execute_input": "2022-08-28T11:58:13.490452Z",
     "iopub.status.busy": "2022-08-28T11:58:13.488829Z",
     "iopub.status.idle": "2022-08-28T11:58:13.496302Z",
     "shell.execute_reply": "2022-08-28T11:58:13.495246Z"
    },
    "executionInfo": {
     "elapsed": 26,
     "status": "ok",
     "timestamp": 1661601449517,
     "user": {
      "displayName": "girgis micheal",
      "userId": "08835413358043215546"
     },
     "user_tz": -120
    },
    "id": "566b352b",
    "jupyter": {
     "outputs_hidden": false
    },
    "outputId": "6072aca0-500f-4c3d-b3a8-a6a21cbf863e",
    "papermill": {
     "duration": 0.049859,
     "end_time": "2022-08-28T11:58:13.498648",
     "exception": false,
     "start_time": "2022-08-28T11:58:13.448789",
     "status": "completed"
    },
    "pycharm": {
     "name": "#%%\n"
    },
    "tags": []
   },
   "outputs": [
    {
     "data": {
      "text/plain": [
       "(2000, 12)"
      ]
     },
     "execution_count": 21,
     "metadata": {},
     "output_type": "execute_result"
    }
   ],
   "source": [
    "fake.shape"
   ]
  },
  {
   "cell_type": "code",
   "execution_count": 22,
   "id": "d7367a10",
   "metadata": {
    "collapsed": false,
    "execution": {
     "iopub.execute_input": "2022-08-28T11:58:13.578381Z",
     "iopub.status.busy": "2022-08-28T11:58:13.577937Z",
     "iopub.status.idle": "2022-08-28T11:58:13.603224Z",
     "shell.execute_reply": "2022-08-28T11:58:13.601863Z"
    },
    "executionInfo": {
     "elapsed": 567,
     "status": "ok",
     "timestamp": 1661601450061,
     "user": {
      "displayName": "girgis micheal",
      "userId": "08835413358043215546"
     },
     "user_tz": -120
    },
    "id": "248f3f18",
    "jupyter": {
     "outputs_hidden": false
    },
    "outputId": "f96b3090-abf6-4f96-a716-a126e1bb0402",
    "papermill": {
     "duration": 0.068099,
     "end_time": "2022-08-28T11:58:13.605648",
     "exception": false,
     "start_time": "2022-08-28T11:58:13.537549",
     "status": "completed"
    },
    "pycharm": {
     "name": "#%%\n"
    },
    "tags": []
   },
   "outputs": [
    {
     "data": {
      "text/html": [
       "<div>\n",
       "<style scoped>\n",
       "    .dataframe tbody tr th:only-of-type {\n",
       "        vertical-align: middle;\n",
       "    }\n",
       "\n",
       "    .dataframe tbody tr th {\n",
       "        vertical-align: top;\n",
       "    }\n",
       "\n",
       "    .dataframe thead th {\n",
       "        text-align: right;\n",
       "    }\n",
       "</style>\n",
       "<table border=\"1\" class=\"dataframe\">\n",
       "  <thead>\n",
       "    <tr style=\"text-align: right;\">\n",
       "      <th></th>\n",
       "      <th>ID</th>\n",
       "      <th>Latitude</th>\n",
       "      <th>Longitude</th>\n",
       "      <th>Day</th>\n",
       "      <th>Hour</th>\n",
       "      <th>Minute</th>\n",
       "      <th>Duration</th>\n",
       "      <th>RemainingTime</th>\n",
       "      <th>Resources</th>\n",
       "      <th>Coverage</th>\n",
       "      <th>OnPeakHours</th>\n",
       "      <th>GridNumber</th>\n",
       "    </tr>\n",
       "  </thead>\n",
       "  <tbody>\n",
       "    <tr>\n",
       "      <th>0</th>\n",
       "      <td>-208.853149</td>\n",
       "      <td>45.546463</td>\n",
       "      <td>-75.326515</td>\n",
       "      <td>2.437549</td>\n",
       "      <td>4.287717</td>\n",
       "      <td>21.352703</td>\n",
       "      <td>51.556355</td>\n",
       "      <td>43.081917</td>\n",
       "      <td>2.578950</td>\n",
       "      <td>67.493523</td>\n",
       "      <td>0.035098</td>\n",
       "      <td>359076.125000</td>\n",
       "    </tr>\n",
       "    <tr>\n",
       "      <th>1</th>\n",
       "      <td>-260.506927</td>\n",
       "      <td>45.548111</td>\n",
       "      <td>-75.221718</td>\n",
       "      <td>1.115067</td>\n",
       "      <td>-0.204731</td>\n",
       "      <td>21.601234</td>\n",
       "      <td>22.554279</td>\n",
       "      <td>51.355869</td>\n",
       "      <td>4.098998</td>\n",
       "      <td>63.009647</td>\n",
       "      <td>-0.007081</td>\n",
       "      <td>129746.382812</td>\n",
       "    </tr>\n",
       "    <tr>\n",
       "      <th>2</th>\n",
       "      <td>-936.389771</td>\n",
       "      <td>45.551994</td>\n",
       "      <td>-75.224144</td>\n",
       "      <td>0.928016</td>\n",
       "      <td>9.707979</td>\n",
       "      <td>115.782249</td>\n",
       "      <td>100.896072</td>\n",
       "      <td>43.008263</td>\n",
       "      <td>1.602001</td>\n",
       "      <td>61.852474</td>\n",
       "      <td>0.297071</td>\n",
       "      <td>362608.500000</td>\n",
       "    </tr>\n",
       "    <tr>\n",
       "      <th>3</th>\n",
       "      <td>-542.968811</td>\n",
       "      <td>45.603287</td>\n",
       "      <td>-75.282722</td>\n",
       "      <td>2.241450</td>\n",
       "      <td>4.083251</td>\n",
       "      <td>81.315071</td>\n",
       "      <td>84.776512</td>\n",
       "      <td>51.691746</td>\n",
       "      <td>3.459776</td>\n",
       "      <td>70.230148</td>\n",
       "      <td>0.245409</td>\n",
       "      <td>318508.187500</td>\n",
       "    </tr>\n",
       "    <tr>\n",
       "      <th>4</th>\n",
       "      <td>-57.871788</td>\n",
       "      <td>45.523571</td>\n",
       "      <td>-75.340210</td>\n",
       "      <td>-0.335941</td>\n",
       "      <td>-0.301348</td>\n",
       "      <td>-0.907958</td>\n",
       "      <td>21.460632</td>\n",
       "      <td>46.525784</td>\n",
       "      <td>1.671444</td>\n",
       "      <td>64.615334</td>\n",
       "      <td>0.191337</td>\n",
       "      <td>231395.640625</td>\n",
       "    </tr>\n",
       "    <tr>\n",
       "      <th>...</th>\n",
       "      <td>...</td>\n",
       "      <td>...</td>\n",
       "      <td>...</td>\n",
       "      <td>...</td>\n",
       "      <td>...</td>\n",
       "      <td>...</td>\n",
       "      <td>...</td>\n",
       "      <td>...</td>\n",
       "      <td>...</td>\n",
       "      <td>...</td>\n",
       "      <td>...</td>\n",
       "      <td>...</td>\n",
       "    </tr>\n",
       "    <tr>\n",
       "      <th>1995</th>\n",
       "      <td>-450.870514</td>\n",
       "      <td>45.503571</td>\n",
       "      <td>-75.268433</td>\n",
       "      <td>0.137040</td>\n",
       "      <td>3.679984</td>\n",
       "      <td>40.284489</td>\n",
       "      <td>54.672070</td>\n",
       "      <td>47.666691</td>\n",
       "      <td>4.030846</td>\n",
       "      <td>80.992973</td>\n",
       "      <td>0.298794</td>\n",
       "      <td>286496.125000</td>\n",
       "    </tr>\n",
       "    <tr>\n",
       "      <th>1996</th>\n",
       "      <td>52.318569</td>\n",
       "      <td>45.353325</td>\n",
       "      <td>-75.349701</td>\n",
       "      <td>-0.456256</td>\n",
       "      <td>-1.302507</td>\n",
       "      <td>-2.700469</td>\n",
       "      <td>22.975868</td>\n",
       "      <td>33.020267</td>\n",
       "      <td>5.345357</td>\n",
       "      <td>49.334339</td>\n",
       "      <td>0.276254</td>\n",
       "      <td>202468.031250</td>\n",
       "    </tr>\n",
       "    <tr>\n",
       "      <th>1997</th>\n",
       "      <td>-1243.024292</td>\n",
       "      <td>45.612442</td>\n",
       "      <td>-75.041985</td>\n",
       "      <td>6.062290</td>\n",
       "      <td>17.821672</td>\n",
       "      <td>174.741318</td>\n",
       "      <td>137.906219</td>\n",
       "      <td>45.149410</td>\n",
       "      <td>2.269790</td>\n",
       "      <td>78.004456</td>\n",
       "      <td>0.130284</td>\n",
       "      <td>449753.750000</td>\n",
       "    </tr>\n",
       "    <tr>\n",
       "      <th>1998</th>\n",
       "      <td>430.916626</td>\n",
       "      <td>45.384480</td>\n",
       "      <td>-75.337631</td>\n",
       "      <td>-0.145411</td>\n",
       "      <td>-1.427666</td>\n",
       "      <td>-2.841817</td>\n",
       "      <td>11.797066</td>\n",
       "      <td>31.016529</td>\n",
       "      <td>4.978550</td>\n",
       "      <td>41.590504</td>\n",
       "      <td>0.004260</td>\n",
       "      <td>274138.687500</td>\n",
       "    </tr>\n",
       "    <tr>\n",
       "      <th>1999</th>\n",
       "      <td>-1326.484375</td>\n",
       "      <td>45.585785</td>\n",
       "      <td>-75.080933</td>\n",
       "      <td>8.165442</td>\n",
       "      <td>19.218538</td>\n",
       "      <td>168.305939</td>\n",
       "      <td>151.118347</td>\n",
       "      <td>44.943050</td>\n",
       "      <td>1.873618</td>\n",
       "      <td>81.316528</td>\n",
       "      <td>0.173942</td>\n",
       "      <td>438813.500000</td>\n",
       "    </tr>\n",
       "  </tbody>\n",
       "</table>\n",
       "<p>2000 rows × 12 columns</p>\n",
       "</div>"
      ],
      "text/plain": [
       "               ID   Latitude  Longitude       Day       Hour      Minute  \\\n",
       "0     -208.853149  45.546463 -75.326515  2.437549   4.287717   21.352703   \n",
       "1     -260.506927  45.548111 -75.221718  1.115067  -0.204731   21.601234   \n",
       "2     -936.389771  45.551994 -75.224144  0.928016   9.707979  115.782249   \n",
       "3     -542.968811  45.603287 -75.282722  2.241450   4.083251   81.315071   \n",
       "4      -57.871788  45.523571 -75.340210 -0.335941  -0.301348   -0.907958   \n",
       "...           ...        ...        ...       ...        ...         ...   \n",
       "1995  -450.870514  45.503571 -75.268433  0.137040   3.679984   40.284489   \n",
       "1996    52.318569  45.353325 -75.349701 -0.456256  -1.302507   -2.700469   \n",
       "1997 -1243.024292  45.612442 -75.041985  6.062290  17.821672  174.741318   \n",
       "1998   430.916626  45.384480 -75.337631 -0.145411  -1.427666   -2.841817   \n",
       "1999 -1326.484375  45.585785 -75.080933  8.165442  19.218538  168.305939   \n",
       "\n",
       "        Duration  RemainingTime  Resources   Coverage  OnPeakHours  \\\n",
       "0      51.556355      43.081917   2.578950  67.493523     0.035098   \n",
       "1      22.554279      51.355869   4.098998  63.009647    -0.007081   \n",
       "2     100.896072      43.008263   1.602001  61.852474     0.297071   \n",
       "3      84.776512      51.691746   3.459776  70.230148     0.245409   \n",
       "4      21.460632      46.525784   1.671444  64.615334     0.191337   \n",
       "...          ...            ...        ...        ...          ...   \n",
       "1995   54.672070      47.666691   4.030846  80.992973     0.298794   \n",
       "1996   22.975868      33.020267   5.345357  49.334339     0.276254   \n",
       "1997  137.906219      45.149410   2.269790  78.004456     0.130284   \n",
       "1998   11.797066      31.016529   4.978550  41.590504     0.004260   \n",
       "1999  151.118347      44.943050   1.873618  81.316528     0.173942   \n",
       "\n",
       "         GridNumber  \n",
       "0     359076.125000  \n",
       "1     129746.382812  \n",
       "2     362608.500000  \n",
       "3     318508.187500  \n",
       "4     231395.640625  \n",
       "...             ...  \n",
       "1995  286496.125000  \n",
       "1996  202468.031250  \n",
       "1997  449753.750000  \n",
       "1998  274138.687500  \n",
       "1999  438813.500000  \n",
       "\n",
       "[2000 rows x 12 columns]"
      ]
     },
     "execution_count": 22,
     "metadata": {},
     "output_type": "execute_result"
    }
   ],
   "source": [
    "fake_inverse= scaler.inverse_transform(fake)\n",
    "fake_tasks_df= pd.DataFrame(fake_inverse,columns=df.columns[:-1])\n",
    "fake_tasks_df"
   ]
  },
  {
   "cell_type": "code",
   "execution_count": 23,
   "id": "7c5c0bf6",
   "metadata": {
    "collapsed": false,
    "execution": {
     "iopub.execute_input": "2022-08-28T11:58:13.685163Z",
     "iopub.status.busy": "2022-08-28T11:58:13.684713Z",
     "iopub.status.idle": "2022-08-28T11:58:13.717684Z",
     "shell.execute_reply": "2022-08-28T11:58:13.716668Z"
    },
    "executionInfo": {
     "elapsed": 20,
     "status": "ok",
     "timestamp": 1661601450062,
     "user": {
      "displayName": "girgis micheal",
      "userId": "08835413358043215546"
     },
     "user_tz": -120
    },
    "id": "3118a116",
    "jupyter": {
     "outputs_hidden": false
    },
    "papermill": {
     "duration": 0.075737,
     "end_time": "2022-08-28T11:58:13.720336",
     "exception": false,
     "start_time": "2022-08-28T11:58:13.644599",
     "status": "completed"
    },
    "pycharm": {
     "name": "#%%\n"
    },
    "tags": []
   },
   "outputs": [],
   "source": [
    "fake_tasks_df.to_csv('Generated_fake_milicious_tasks.csv',index=False)"
   ]
  },
  {
   "cell_type": "markdown",
   "id": "2336fbd9",
   "metadata": {
    "id": "aeabe84a",
    "papermill": {
     "duration": 0.03861,
     "end_time": "2022-08-28T11:58:13.797334",
     "exception": false,
     "start_time": "2022-08-28T11:58:13.758724",
     "status": "completed"
    },
    "pycharm": {
     "name": "#%% md\n"
    },
    "tags": []
   },
   "source": [
    "**To test the quality of our generation**"
   ]
  },
  {
   "cell_type": "code",
   "execution_count": 24,
   "id": "06369f2b",
   "metadata": {
    "collapsed": false,
    "execution": {
     "iopub.execute_input": "2022-08-28T11:58:13.876117Z",
     "iopub.status.busy": "2022-08-28T11:58:13.875669Z",
     "iopub.status.idle": "2022-08-28T11:58:13.908589Z",
     "shell.execute_reply": "2022-08-28T11:58:13.907337Z"
    },
    "executionInfo": {
     "elapsed": 20,
     "status": "ok",
     "timestamp": 1661601450062,
     "user": {
      "displayName": "girgis micheal",
      "userId": "08835413358043215546"
     },
     "user_tz": -120
    },
    "id": "e51c6da4",
    "jupyter": {
     "outputs_hidden": false
    },
    "outputId": "8f27477f-dde0-4284-aeb3-97795eaf64ca",
    "papermill": {
     "duration": 0.075504,
     "end_time": "2022-08-28T11:58:13.911163",
     "exception": false,
     "start_time": "2022-08-28T11:58:13.835659",
     "status": "completed"
    },
    "pycharm": {
     "name": "#%%\n"
    },
    "tags": []
   },
   "outputs": [
    {
     "data": {
      "text/plain": [
       "1    1857\n",
       "0     143\n",
       "dtype: int64"
      ]
     },
     "execution_count": 24,
     "metadata": {},
     "output_type": "execute_result"
    }
   ],
   "source": [
    "mm = adaBoostClassifier.predict(fake_tasks_df)\n",
    "pd.DataFrame(mm).value_counts()"
   ]
  },
  {
   "cell_type": "markdown",
   "id": "5ce96210",
   "metadata": {
    "id": "1167d26e",
    "papermill": {
     "duration": 0.039033,
     "end_time": "2022-08-28T11:58:13.989381",
     "exception": false,
     "start_time": "2022-08-28T11:58:13.950348",
     "status": "completed"
    },
    "pycharm": {
     "name": "#%% md\n"
    },
    "tags": []
   },
   "source": [
    "> - the model fail to detect 1862 sample of the fake data, and only detected 138 sample. It's a good evidence that we succeeded in scammimg the model because all this tasks should be calssified as unligitmate"
   ]
  },
  {
   "cell_type": "markdown",
   "id": "9a90eb40",
   "metadata": {
    "id": "6a56d9b9",
    "papermill": {
     "duration": 0.038811,
     "end_time": "2022-08-28T11:58:14.069932",
     "exception": false,
     "start_time": "2022-08-28T11:58:14.031121",
     "status": "completed"
    },
    "pycharm": {
     "name": "#%% md\n"
    },
    "tags": []
   },
   "source": [
    "\n",
    "# Mix the generated fake tasks with the original test dataset to obtain a new test dataset"
   ]
  },
  {
   "cell_type": "code",
   "execution_count": 25,
   "id": "ab5b0c5f",
   "metadata": {
    "collapsed": false,
    "execution": {
     "iopub.execute_input": "2022-08-28T11:58:14.151667Z",
     "iopub.status.busy": "2022-08-28T11:58:14.150927Z",
     "iopub.status.idle": "2022-08-28T11:58:14.178808Z",
     "shell.execute_reply": "2022-08-28T11:58:14.177614Z"
    },
    "executionInfo": {
     "elapsed": 17,
     "status": "ok",
     "timestamp": 1661601450063,
     "user": {
      "displayName": "girgis micheal",
      "userId": "08835413358043215546"
     },
     "user_tz": -120
    },
    "id": "5819653f",
    "jupyter": {
     "outputs_hidden": false
    },
    "outputId": "68f27656-b68c-44e6-dcd7-ab191b222680",
    "papermill": {
     "duration": 0.071557,
     "end_time": "2022-08-28T11:58:14.181251",
     "exception": false,
     "start_time": "2022-08-28T11:58:14.109694",
     "status": "completed"
    },
    "pycharm": {
     "name": "#%%\n"
    },
    "tags": []
   },
   "outputs": [
    {
     "data": {
      "text/html": [
       "<div>\n",
       "<style scoped>\n",
       "    .dataframe tbody tr th:only-of-type {\n",
       "        vertical-align: middle;\n",
       "    }\n",
       "\n",
       "    .dataframe tbody tr th {\n",
       "        vertical-align: top;\n",
       "    }\n",
       "\n",
       "    .dataframe thead th {\n",
       "        text-align: right;\n",
       "    }\n",
       "</style>\n",
       "<table border=\"1\" class=\"dataframe\">\n",
       "  <thead>\n",
       "    <tr style=\"text-align: right;\">\n",
       "      <th></th>\n",
       "      <th>ID</th>\n",
       "      <th>Latitude</th>\n",
       "      <th>Longitude</th>\n",
       "      <th>Day</th>\n",
       "      <th>Hour</th>\n",
       "      <th>Minute</th>\n",
       "      <th>Duration</th>\n",
       "      <th>RemainingTime</th>\n",
       "      <th>Resources</th>\n",
       "      <th>Coverage</th>\n",
       "      <th>OnPeakHours</th>\n",
       "      <th>GridNumber</th>\n",
       "    </tr>\n",
       "  </thead>\n",
       "  <tbody>\n",
       "    <tr>\n",
       "      <th>0</th>\n",
       "      <td>1031.000000</td>\n",
       "      <td>45.556369</td>\n",
       "      <td>-75.201917</td>\n",
       "      <td>3.000000</td>\n",
       "      <td>11.000000</td>\n",
       "      <td>9.000000</td>\n",
       "      <td>40.000000</td>\n",
       "      <td>20.000000</td>\n",
       "      <td>1.000000</td>\n",
       "      <td>86.000000</td>\n",
       "      <td>0.000000</td>\n",
       "      <td>319073.00000</td>\n",
       "    </tr>\n",
       "    <tr>\n",
       "      <th>1</th>\n",
       "      <td>209.000000</td>\n",
       "      <td>45.469987</td>\n",
       "      <td>-75.155623</td>\n",
       "      <td>4.000000</td>\n",
       "      <td>16.000000</td>\n",
       "      <td>8.000000</td>\n",
       "      <td>60.000000</td>\n",
       "      <td>10.000000</td>\n",
       "      <td>8.000000</td>\n",
       "      <td>53.000000</td>\n",
       "      <td>0.000000</td>\n",
       "      <td>178319.00000</td>\n",
       "    </tr>\n",
       "    <tr>\n",
       "      <th>2</th>\n",
       "      <td>3653.000000</td>\n",
       "      <td>45.536579</td>\n",
       "      <td>-75.161880</td>\n",
       "      <td>5.000000</td>\n",
       "      <td>8.000000</td>\n",
       "      <td>35.000000</td>\n",
       "      <td>50.000000</td>\n",
       "      <td>30.000000</td>\n",
       "      <td>8.000000</td>\n",
       "      <td>63.000000</td>\n",
       "      <td>1.000000</td>\n",
       "      <td>290926.00000</td>\n",
       "    </tr>\n",
       "    <tr>\n",
       "      <th>3</th>\n",
       "      <td>94.000000</td>\n",
       "      <td>45.392164</td>\n",
       "      <td>-75.235236</td>\n",
       "      <td>4.000000</td>\n",
       "      <td>4.000000</td>\n",
       "      <td>36.000000</td>\n",
       "      <td>40.000000</td>\n",
       "      <td>30.000000</td>\n",
       "      <td>6.000000</td>\n",
       "      <td>74.000000</td>\n",
       "      <td>0.000000</td>\n",
       "      <td>37549.00000</td>\n",
       "    </tr>\n",
       "    <tr>\n",
       "      <th>4</th>\n",
       "      <td>1283.000000</td>\n",
       "      <td>45.496407</td>\n",
       "      <td>-75.183561</td>\n",
       "      <td>4.000000</td>\n",
       "      <td>4.000000</td>\n",
       "      <td>1.000000</td>\n",
       "      <td>50.000000</td>\n",
       "      <td>30.000000</td>\n",
       "      <td>5.000000</td>\n",
       "      <td>60.000000</td>\n",
       "      <td>0.000000</td>\n",
       "      <td>215851.00000</td>\n",
       "    </tr>\n",
       "    <tr>\n",
       "      <th>...</th>\n",
       "      <td>...</td>\n",
       "      <td>...</td>\n",
       "      <td>...</td>\n",
       "      <td>...</td>\n",
       "      <td>...</td>\n",
       "      <td>...</td>\n",
       "      <td>...</td>\n",
       "      <td>...</td>\n",
       "      <td>...</td>\n",
       "      <td>...</td>\n",
       "      <td>...</td>\n",
       "      <td>...</td>\n",
       "    </tr>\n",
       "    <tr>\n",
       "      <th>4892</th>\n",
       "      <td>-450.870514</td>\n",
       "      <td>45.503571</td>\n",
       "      <td>-75.268433</td>\n",
       "      <td>0.137040</td>\n",
       "      <td>3.679984</td>\n",
       "      <td>40.284489</td>\n",
       "      <td>54.672070</td>\n",
       "      <td>47.666691</td>\n",
       "      <td>4.030846</td>\n",
       "      <td>80.992973</td>\n",
       "      <td>0.298794</td>\n",
       "      <td>286496.12500</td>\n",
       "    </tr>\n",
       "    <tr>\n",
       "      <th>4893</th>\n",
       "      <td>52.318569</td>\n",
       "      <td>45.353325</td>\n",
       "      <td>-75.349701</td>\n",
       "      <td>-0.456256</td>\n",
       "      <td>-1.302507</td>\n",
       "      <td>-2.700469</td>\n",
       "      <td>22.975868</td>\n",
       "      <td>33.020267</td>\n",
       "      <td>5.345357</td>\n",
       "      <td>49.334339</td>\n",
       "      <td>0.276254</td>\n",
       "      <td>202468.03125</td>\n",
       "    </tr>\n",
       "    <tr>\n",
       "      <th>4894</th>\n",
       "      <td>-1243.024292</td>\n",
       "      <td>45.612442</td>\n",
       "      <td>-75.041985</td>\n",
       "      <td>6.062290</td>\n",
       "      <td>17.821672</td>\n",
       "      <td>174.741318</td>\n",
       "      <td>137.906219</td>\n",
       "      <td>45.149410</td>\n",
       "      <td>2.269790</td>\n",
       "      <td>78.004456</td>\n",
       "      <td>0.130284</td>\n",
       "      <td>449753.75000</td>\n",
       "    </tr>\n",
       "    <tr>\n",
       "      <th>4895</th>\n",
       "      <td>430.916626</td>\n",
       "      <td>45.384480</td>\n",
       "      <td>-75.337631</td>\n",
       "      <td>-0.145411</td>\n",
       "      <td>-1.427666</td>\n",
       "      <td>-2.841817</td>\n",
       "      <td>11.797066</td>\n",
       "      <td>31.016529</td>\n",
       "      <td>4.978550</td>\n",
       "      <td>41.590504</td>\n",
       "      <td>0.004260</td>\n",
       "      <td>274138.68750</td>\n",
       "    </tr>\n",
       "    <tr>\n",
       "      <th>4896</th>\n",
       "      <td>-1326.484375</td>\n",
       "      <td>45.585785</td>\n",
       "      <td>-75.080933</td>\n",
       "      <td>8.165442</td>\n",
       "      <td>19.218538</td>\n",
       "      <td>168.305939</td>\n",
       "      <td>151.118347</td>\n",
       "      <td>44.943050</td>\n",
       "      <td>1.873618</td>\n",
       "      <td>81.316528</td>\n",
       "      <td>0.173942</td>\n",
       "      <td>438813.50000</td>\n",
       "    </tr>\n",
       "  </tbody>\n",
       "</table>\n",
       "<p>4897 rows × 12 columns</p>\n",
       "</div>"
      ],
      "text/plain": [
       "               ID   Latitude  Longitude       Day       Hour      Minute  \\\n",
       "0     1031.000000  45.556369 -75.201917  3.000000  11.000000    9.000000   \n",
       "1      209.000000  45.469987 -75.155623  4.000000  16.000000    8.000000   \n",
       "2     3653.000000  45.536579 -75.161880  5.000000   8.000000   35.000000   \n",
       "3       94.000000  45.392164 -75.235236  4.000000   4.000000   36.000000   \n",
       "4     1283.000000  45.496407 -75.183561  4.000000   4.000000    1.000000   \n",
       "...           ...        ...        ...       ...        ...         ...   \n",
       "4892  -450.870514  45.503571 -75.268433  0.137040   3.679984   40.284489   \n",
       "4893    52.318569  45.353325 -75.349701 -0.456256  -1.302507   -2.700469   \n",
       "4894 -1243.024292  45.612442 -75.041985  6.062290  17.821672  174.741318   \n",
       "4895   430.916626  45.384480 -75.337631 -0.145411  -1.427666   -2.841817   \n",
       "4896 -1326.484375  45.585785 -75.080933  8.165442  19.218538  168.305939   \n",
       "\n",
       "        Duration  RemainingTime  Resources   Coverage  OnPeakHours  \\\n",
       "0      40.000000      20.000000   1.000000  86.000000     0.000000   \n",
       "1      60.000000      10.000000   8.000000  53.000000     0.000000   \n",
       "2      50.000000      30.000000   8.000000  63.000000     1.000000   \n",
       "3      40.000000      30.000000   6.000000  74.000000     0.000000   \n",
       "4      50.000000      30.000000   5.000000  60.000000     0.000000   \n",
       "...          ...            ...        ...        ...          ...   \n",
       "4892   54.672070      47.666691   4.030846  80.992973     0.298794   \n",
       "4893   22.975868      33.020267   5.345357  49.334339     0.276254   \n",
       "4894  137.906219      45.149410   2.269790  78.004456     0.130284   \n",
       "4895   11.797066      31.016529   4.978550  41.590504     0.004260   \n",
       "4896  151.118347      44.943050   1.873618  81.316528     0.173942   \n",
       "\n",
       "        GridNumber  \n",
       "0     319073.00000  \n",
       "1     178319.00000  \n",
       "2     290926.00000  \n",
       "3      37549.00000  \n",
       "4     215851.00000  \n",
       "...            ...  \n",
       "4892  286496.12500  \n",
       "4893  202468.03125  \n",
       "4894  449753.75000  \n",
       "4895  274138.68750  \n",
       "4896  438813.50000  \n",
       "\n",
       "[4897 rows x 12 columns]"
      ]
     },
     "execution_count": 25,
     "metadata": {},
     "output_type": "execute_result"
    }
   ],
   "source": [
    "mixed_test_dataset=pd.concat([X_test,fake_tasks_df])\n",
    "mixed_test_dataset=mixed_test_dataset.reset_index()\n",
    "mixed_test_dataset.drop('index',axis=1,inplace=True)\n",
    "mixed_test_dataset"
   ]
  },
  {
   "cell_type": "markdown",
   "id": "9da8dd0c",
   "metadata": {
    "id": "bb2b0ad2",
    "papermill": {
     "duration": 0.038781,
     "end_time": "2022-08-28T11:58:14.259807",
     "exception": false,
     "start_time": "2022-08-28T11:58:14.221026",
     "status": "completed"
    },
    "pycharm": {
     "name": "#%% md\n"
    },
    "tags": []
   },
   "source": [
    "**Should label all these tasks as unligitimate tasks**"
   ]
  },
  {
   "cell_type": "code",
   "execution_count": 26,
   "id": "63930092",
   "metadata": {
    "collapsed": false,
    "execution": {
     "iopub.execute_input": "2022-08-28T11:58:14.339393Z",
     "iopub.status.busy": "2022-08-28T11:58:14.338965Z",
     "iopub.status.idle": "2022-08-28T11:58:14.356143Z",
     "shell.execute_reply": "2022-08-28T11:58:14.354812Z"
    },
    "executionInfo": {
     "elapsed": 17,
     "status": "ok",
     "timestamp": 1661601450064,
     "user": {
      "displayName": "girgis micheal",
      "userId": "08835413358043215546"
     },
     "user_tz": -120
    },
    "id": "fe7ea69e",
    "jupyter": {
     "outputs_hidden": false
    },
    "outputId": "2ac9dcab-c28e-48a0-ad9c-97698c8e78ad",
    "papermill": {
     "duration": 0.060276,
     "end_time": "2022-08-28T11:58:14.358810",
     "exception": false,
     "start_time": "2022-08-28T11:58:14.298534",
     "status": "completed"
    },
    "pycharm": {
     "name": "#%%\n"
    },
    "tags": []
   },
   "outputs": [
    {
     "data": {
      "text/html": [
       "<div>\n",
       "<style scoped>\n",
       "    .dataframe tbody tr th:only-of-type {\n",
       "        vertical-align: middle;\n",
       "    }\n",
       "\n",
       "    .dataframe tbody tr th {\n",
       "        vertical-align: top;\n",
       "    }\n",
       "\n",
       "    .dataframe thead th {\n",
       "        text-align: right;\n",
       "    }\n",
       "</style>\n",
       "<table border=\"1\" class=\"dataframe\">\n",
       "  <thead>\n",
       "    <tr style=\"text-align: right;\">\n",
       "      <th></th>\n",
       "      <th>Ligitimacy</th>\n",
       "    </tr>\n",
       "  </thead>\n",
       "  <tbody>\n",
       "    <tr>\n",
       "      <th>0</th>\n",
       "      <td>1</td>\n",
       "    </tr>\n",
       "    <tr>\n",
       "      <th>1</th>\n",
       "      <td>0</td>\n",
       "    </tr>\n",
       "    <tr>\n",
       "      <th>2</th>\n",
       "      <td>0</td>\n",
       "    </tr>\n",
       "    <tr>\n",
       "      <th>3</th>\n",
       "      <td>1</td>\n",
       "    </tr>\n",
       "    <tr>\n",
       "      <th>4</th>\n",
       "      <td>1</td>\n",
       "    </tr>\n",
       "    <tr>\n",
       "      <th>...</th>\n",
       "      <td>...</td>\n",
       "    </tr>\n",
       "    <tr>\n",
       "      <th>4892</th>\n",
       "      <td>0</td>\n",
       "    </tr>\n",
       "    <tr>\n",
       "      <th>4893</th>\n",
       "      <td>0</td>\n",
       "    </tr>\n",
       "    <tr>\n",
       "      <th>4894</th>\n",
       "      <td>0</td>\n",
       "    </tr>\n",
       "    <tr>\n",
       "      <th>4895</th>\n",
       "      <td>0</td>\n",
       "    </tr>\n",
       "    <tr>\n",
       "      <th>4896</th>\n",
       "      <td>0</td>\n",
       "    </tr>\n",
       "  </tbody>\n",
       "</table>\n",
       "<p>4897 rows × 1 columns</p>\n",
       "</div>"
      ],
      "text/plain": [
       "      Ligitimacy\n",
       "0              1\n",
       "1              0\n",
       "2              0\n",
       "3              1\n",
       "4              1\n",
       "...          ...\n",
       "4892           0\n",
       "4893           0\n",
       "4894           0\n",
       "4895           0\n",
       "4896           0\n",
       "\n",
       "[4897 rows x 1 columns]"
      ]
     },
     "execution_count": 26,
     "metadata": {},
     "output_type": "execute_result"
    }
   ],
   "source": [
    "y_for_fake_tasks=pd.DataFrame({'Ligitimacy':[0]*2000},)\n",
    "mixed_y_test=pd.concat([y_test,y_for_fake_tasks['Ligitimacy']])\n",
    "mixed_y_test=mixed_y_test.reset_index()\n",
    "mixed_y_test.drop('index',axis=1,inplace=True)\n",
    "mixed_y_test"
   ]
  },
  {
   "cell_type": "markdown",
   "id": "35ddb7e1",
   "metadata": {
    "id": "ccfdbc95",
    "papermill": {
     "duration": 0.038656,
     "end_time": "2022-08-28T11:58:14.436609",
     "exception": false,
     "start_time": "2022-08-28T11:58:14.397953",
     "status": "completed"
    },
    "pycharm": {
     "name": "#%% md\n"
    },
    "tags": []
   },
   "source": [
    "# Obtain Adaboost and RF detection performance using the new test dataset and compare the results"
   ]
  },
  {
   "cell_type": "code",
   "execution_count": 27,
   "id": "6d8d37fe",
   "metadata": {
    "collapsed": false,
    "execution": {
     "iopub.execute_input": "2022-08-28T11:58:14.518612Z",
     "iopub.status.busy": "2022-08-28T11:58:14.517789Z",
     "iopub.status.idle": "2022-08-28T11:58:14.814314Z",
     "shell.execute_reply": "2022-08-28T11:58:14.812848Z"
    },
    "executionInfo": {
     "elapsed": 996,
     "status": "ok",
     "timestamp": 1661601451044,
     "user": {
      "displayName": "girgis micheal",
      "userId": "08835413358043215546"
     },
     "user_tz": -120
    },
    "id": "c319eb71",
    "jupyter": {
     "outputs_hidden": false
    },
    "outputId": "fb1dedaa-13b3-4006-cb42-ec065ebbcac4",
    "papermill": {
     "duration": 0.340349,
     "end_time": "2022-08-28T11:58:14.816925",
     "exception": false,
     "start_time": "2022-08-28T11:58:14.476576",
     "status": "completed"
    },
    "pycharm": {
     "name": "#%%\n"
    },
    "tags": []
   },
   "outputs": [
    {
     "name": "stdout",
     "output_type": "stream",
     "text": [
      "AdaBoostClassifier accuracy for the mixed data= 0.576883806412089\n",
      "RandomForestClassifier accuracy for the mixed data = 0.5952624055544211\n"
     ]
    },
    {
     "data": {
      "text/plain": [
       "<AxesSubplot:>"
      ]
     },
     "execution_count": 27,
     "metadata": {},
     "output_type": "execute_result"
    },
    {
     "data": {
      "image/png": "[encoded data removed]",
      "text/plain": [
       "<Figure size 720x720 with 1 Axes>"
      ]
     },
     "metadata": {
      "needs_background": "light"
     },
     "output_type": "display_data"
    }
   ],
   "source": [
    "adaboost_accuracy=adaBoostClassifier.score(mixed_test_dataset,mixed_y_test)\n",
    "rf_accuracy=randomForestClassifier.score(mixed_test_dataset,mixed_y_test)\n",
    "print(f'AdaBoostClassifier accuracy for the mixed data= {adaboost_accuracy}')\n",
    "print(f'RandomForestClassifier accuracy for the mixed data = {rf_accuracy}')\n",
    "plt.figure(figsize=(10,10))\n",
    "plt.ylim(0,1)\n",
    "sns.barplot(x=['AdaBoost','RandomForest'],y=[adaboost_accuracy,rf_accuracy])"
   ]
  },
  {
   "cell_type": "markdown",
   "id": "42c7a4be",
   "metadata": {
    "id": "0c87fbe0",
    "papermill": {
     "duration": 0.039457,
     "end_time": "2022-08-28T11:58:14.896613",
     "exception": false,
     "start_time": "2022-08-28T11:58:14.857156",
     "status": "completed"
    },
    "pycharm": {
     "name": "#%% md\n"
    },
    "tags": []
   },
   "source": [
    "**Our generated data scammed the models very well as:**\n",
    "> - The Adaboost's accuracy has been decreased from 0.925 to 0.575 .\n",
    "> - the Random forest's accuracy has been decreased from 0.990 to 0.590."
   ]
  },
  {
   "cell_type": "markdown",
   "id": "2eba3fe5",
   "metadata": {
    "id": "d539bb2a",
    "papermill": {
     "duration": 0.039523,
     "end_time": "2022-08-28T11:58:14.976932",
     "exception": false,
     "start_time": "2022-08-28T11:58:14.937409",
     "status": "completed"
    },
    "pycharm": {
     "name": "#%% md\n"
    },
    "tags": []
   },
   "source": [
    "# Consider the Discriminator to as the first level classifier and RF/Adaboost as the second level classifier"
   ]
  },
  {
   "cell_type": "markdown",
   "id": "381200ec",
   "metadata": {
    "id": "ce3d97e2",
    "papermill": {
     "duration": 0.041087,
     "end_time": "2022-08-28T11:58:15.058846",
     "exception": false,
     "start_time": "2022-08-28T11:58:15.017759",
     "status": "completed"
    },
    "pycharm": {
     "name": "#%% md\n"
    },
    "tags": []
   },
   "source": [
    "**Because of our discriminator is trained on scaled data, so we will scale this data**"
   ]
  },
  {
   "cell_type": "code",
   "execution_count": 28,
   "id": "acff8fd0",
   "metadata": {
    "collapsed": false,
    "execution": {
     "iopub.execute_input": "2022-08-28T11:58:15.141865Z",
     "iopub.status.busy": "2022-08-28T11:58:15.141156Z",
     "iopub.status.idle": "2022-08-28T11:58:15.151070Z",
     "shell.execute_reply": "2022-08-28T11:58:15.150179Z"
    },
    "executionInfo": {
     "elapsed": 505,
     "status": "ok",
     "timestamp": 1661601451541,
     "user": {
      "displayName": "girgis micheal",
      "userId": "08835413358043215546"
     },
     "user_tz": -120
    },
    "id": "faceffc3",
    "jupyter": {
     "outputs_hidden": false
    },
    "outputId": "6a9847d4-5c70-4c72-c9eb-0c2900239c72",
    "papermill": {
     "duration": 0.053931,
     "end_time": "2022-08-28T11:58:15.153361",
     "exception": false,
     "start_time": "2022-08-28T11:58:15.099430",
     "status": "completed"
    },
    "pycharm": {
     "name": "#%%\n"
    },
    "tags": []
   },
   "outputs": [
    {
     "data": {
      "text/plain": [
       "array([[ 0.25756439,  0.87078121,  0.53914657, ...,  0.8       ,\n",
       "         0.        ,  0.85363261],\n",
       "       [ 0.052013  ,  0.4764824 ,  0.72794642, ...,  0.32857143,\n",
       "         0.        ,  0.4878012 ],\n",
       "       [ 0.91322831,  0.78044984,  0.70242734, ...,  0.47142857,\n",
       "         1.        ,  0.7804762 ],\n",
       "       ...,\n",
       "       [-0.31108384,  1.12673044,  1.19139557, ...,  0.68577794,\n",
       "         0.13028365,  1.1932828 ],\n",
       "       [ 0.10750603,  0.08617771, -0.01433721, ...,  0.16557862,\n",
       "         0.0042596 ,  0.73684458],\n",
       "       [-0.33195408,  1.00505199,  1.0325541 , ...,  0.73309326,\n",
       "         0.17394227,  1.16484817]])"
      ]
     },
     "execution_count": 28,
     "metadata": {},
     "output_type": "execute_result"
    }
   ],
   "source": [
    "mixed_test_dataset_scaled=scaler.transform(mixed_test_dataset)\n",
    "mixed_test_dataset_scaled"
   ]
  },
  {
   "cell_type": "markdown",
   "id": "fe128411",
   "metadata": {
    "id": "ce6c5344",
    "papermill": {
     "duration": 0.040423,
     "end_time": "2022-08-28T11:58:15.234289",
     "exception": false,
     "start_time": "2022-08-28T11:58:15.193866",
     "status": "completed"
    },
    "pycharm": {
     "name": "#%% md\n"
    },
    "tags": []
   },
   "source": [
    "**Concat the labels as one hot encoding**"
   ]
  },
  {
   "cell_type": "code",
   "execution_count": 29,
   "id": "a03d56dd",
   "metadata": {
    "collapsed": false,
    "execution": {
     "iopub.execute_input": "2022-08-28T11:58:15.318151Z",
     "iopub.status.busy": "2022-08-28T11:58:15.317079Z",
     "iopub.status.idle": "2022-08-28T11:58:15.325097Z",
     "shell.execute_reply": "2022-08-28T11:58:15.324228Z"
    },
    "executionInfo": {
     "elapsed": 7,
     "status": "ok",
     "timestamp": 1661601451541,
     "user": {
      "displayName": "girgis micheal",
      "userId": "08835413358043215546"
     },
     "user_tz": -120
    },
    "id": "1baf370a",
    "jupyter": {
     "outputs_hidden": false
    },
    "outputId": "68baddf5-8401-4d01-edb7-ae3cde927e93",
    "papermill": {
     "duration": 0.052604,
     "end_time": "2022-08-28T11:58:15.327300",
     "exception": false,
     "start_time": "2022-08-28T11:58:15.274696",
     "status": "completed"
    },
    "pycharm": {
     "name": "#%%\n"
    },
    "tags": []
   },
   "outputs": [
    {
     "data": {
      "text/plain": [
       "TensorShape([4897, 14])"
      ]
     },
     "execution_count": 29,
     "metadata": {},
     "output_type": "execute_result"
    }
   ],
   "source": [
    "one_hot_examples_for_mixed_dataset = keras.utils.to_categorical(mixed_y_test, 2)\n",
    "mixed_test_dataset_scaled_and_labels = tf.concat([mixed_test_dataset_scaled, one_hot_examples_for_mixed_dataset], 1)\n",
    "mixed_test_dataset_scaled_and_labels.shape"
   ]
  },
  {
   "cell_type": "markdown",
   "id": "e893d7f8",
   "metadata": {
    "id": "c94dc3f4",
    "papermill": {
     "duration": 0.040768,
     "end_time": "2022-08-28T11:58:15.408018",
     "exception": false,
     "start_time": "2022-08-28T11:58:15.367250",
     "status": "completed"
    },
    "pycharm": {
     "name": "#%% md\n"
    },
    "tags": []
   },
   "source": [
    "### Detect the real and fake tasks using the discriminator as first level classification"
   ]
  },
  {
   "cell_type": "code",
   "execution_count": 30,
   "id": "589e3258",
   "metadata": {
    "collapsed": false,
    "execution": {
     "iopub.execute_input": "2022-08-28T11:58:15.490965Z",
     "iopub.status.busy": "2022-08-28T11:58:15.490542Z",
     "iopub.status.idle": "2022-08-28T11:58:15.495342Z",
     "shell.execute_reply": "2022-08-28T11:58:15.494317Z"
    },
    "executionInfo": {
     "elapsed": 5,
     "status": "ok",
     "timestamp": 1661601451542,
     "user": {
      "displayName": "girgis micheal",
      "userId": "08835413358043215546"
     },
     "user_tz": -120
    },
    "id": "e2ad9d1f",
    "jupyter": {
     "outputs_hidden": false
    },
    "papermill": {
     "duration": 0.04913,
     "end_time": "2022-08-28T11:58:15.497444",
     "exception": false,
     "start_time": "2022-08-28T11:58:15.448314",
     "status": "completed"
    },
    "pycharm": {
     "name": "#%%\n"
    },
    "tags": []
   },
   "outputs": [],
   "source": [
    "trained_disc=cgan.discriminator"
   ]
  },
  {
   "cell_type": "code",
   "execution_count": 31,
   "id": "0a51480c",
   "metadata": {
    "collapsed": false,
    "execution": {
     "iopub.execute_input": "2022-08-28T11:58:15.579805Z",
     "iopub.status.busy": "2022-08-28T11:58:15.578995Z",
     "iopub.status.idle": "2022-08-28T11:58:16.472200Z",
     "shell.execute_reply": "2022-08-28T11:58:16.471038Z"
    },
    "executionInfo": {
     "elapsed": 1456,
     "status": "ok",
     "timestamp": 1661601522704,
     "user": {
      "displayName": "girgis micheal",
      "userId": "08835413358043215546"
     },
     "user_tz": -120
    },
    "id": "eee6050f",
    "jupyter": {
     "outputs_hidden": false
    },
    "papermill": {
     "duration": 0.936779,
     "end_time": "2022-08-28T11:58:16.474904",
     "exception": false,
     "start_time": "2022-08-28T11:58:15.538125",
     "status": "completed"
    },
    "pycharm": {
     "name": "#%%\n"
    },
    "tags": []
   },
   "outputs": [],
   "source": [
    "y_pred_mixed_from_disc=trained_disc.predict(mixed_test_dataset_scaled_and_labels)\n",
    "y_pred_mixed_from_disc=np.apply_along_axis(lambda x:1 if x >=0.5 else 0,axis=1,arr=y_pred_mixed_from_disc,)\n",
    "y_pred_mixed_from_disc=pd.DataFrame(y_pred_mixed_from_disc)\n",
    "# y_pred_mixed_from_disc"
   ]
  },
  {
   "cell_type": "markdown",
   "id": "83082529",
   "metadata": {
    "id": "7d8283a7",
    "papermill": {
     "duration": 0.040757,
     "end_time": "2022-08-28T11:58:16.557113",
     "exception": false,
     "start_time": "2022-08-28T11:58:16.516356",
     "status": "completed"
    },
    "pycharm": {
     "name": "#%% md\n"
    },
    "tags": []
   },
   "source": [
    "## Filter synthetic tasks"
   ]
  },
  {
   "cell_type": "code",
   "execution_count": 32,
   "id": "95f6c3aa",
   "metadata": {
    "collapsed": false,
    "execution": {
     "iopub.execute_input": "2022-08-28T11:58:16.640232Z",
     "iopub.status.busy": "2022-08-28T11:58:16.638809Z",
     "iopub.status.idle": "2022-08-28T11:58:16.668967Z",
     "shell.execute_reply": "2022-08-28T11:58:16.667797Z"
    },
    "executionInfo": {
     "elapsed": 13,
     "status": "ok",
     "timestamp": 1661601452578,
     "user": {
      "displayName": "girgis micheal",
      "userId": "08835413358043215546"
     },
     "user_tz": -120
    },
    "id": "6b58ef5b",
    "jupyter": {
     "outputs_hidden": false
    },
    "outputId": "603d36e7-623d-4adf-fad2-bab319ccb53f",
    "papermill": {
     "duration": 0.073745,
     "end_time": "2022-08-28T11:58:16.671415",
     "exception": false,
     "start_time": "2022-08-28T11:58:16.597670",
     "status": "completed"
    },
    "pycharm": {
     "name": "#%%\n"
    },
    "tags": []
   },
   "outputs": [
    {
     "data": {
      "text/html": [
       "<div>\n",
       "<style scoped>\n",
       "    .dataframe tbody tr th:only-of-type {\n",
       "        vertical-align: middle;\n",
       "    }\n",
       "\n",
       "    .dataframe tbody tr th {\n",
       "        vertical-align: top;\n",
       "    }\n",
       "\n",
       "    .dataframe thead th {\n",
       "        text-align: right;\n",
       "    }\n",
       "</style>\n",
       "<table border=\"1\" class=\"dataframe\">\n",
       "  <thead>\n",
       "    <tr style=\"text-align: right;\">\n",
       "      <th></th>\n",
       "      <th>ID</th>\n",
       "      <th>Latitude</th>\n",
       "      <th>Longitude</th>\n",
       "      <th>Day</th>\n",
       "      <th>Hour</th>\n",
       "      <th>Minute</th>\n",
       "      <th>Duration</th>\n",
       "      <th>RemainingTime</th>\n",
       "      <th>Resources</th>\n",
       "      <th>Coverage</th>\n",
       "      <th>OnPeakHours</th>\n",
       "      <th>GridNumber</th>\n",
       "    </tr>\n",
       "  </thead>\n",
       "  <tbody>\n",
       "    <tr>\n",
       "      <th>0</th>\n",
       "      <td>1031.0</td>\n",
       "      <td>45.556369</td>\n",
       "      <td>-75.201917</td>\n",
       "      <td>3.0</td>\n",
       "      <td>11.0</td>\n",
       "      <td>9.0</td>\n",
       "      <td>40.0</td>\n",
       "      <td>20.0</td>\n",
       "      <td>1.0</td>\n",
       "      <td>86.0</td>\n",
       "      <td>0.0</td>\n",
       "      <td>319073.0</td>\n",
       "    </tr>\n",
       "    <tr>\n",
       "      <th>1</th>\n",
       "      <td>209.0</td>\n",
       "      <td>45.469987</td>\n",
       "      <td>-75.155623</td>\n",
       "      <td>4.0</td>\n",
       "      <td>16.0</td>\n",
       "      <td>8.0</td>\n",
       "      <td>60.0</td>\n",
       "      <td>10.0</td>\n",
       "      <td>8.0</td>\n",
       "      <td>53.0</td>\n",
       "      <td>0.0</td>\n",
       "      <td>178319.0</td>\n",
       "    </tr>\n",
       "    <tr>\n",
       "      <th>2</th>\n",
       "      <td>3653.0</td>\n",
       "      <td>45.536579</td>\n",
       "      <td>-75.161880</td>\n",
       "      <td>5.0</td>\n",
       "      <td>8.0</td>\n",
       "      <td>35.0</td>\n",
       "      <td>50.0</td>\n",
       "      <td>30.0</td>\n",
       "      <td>8.0</td>\n",
       "      <td>63.0</td>\n",
       "      <td>1.0</td>\n",
       "      <td>290926.0</td>\n",
       "    </tr>\n",
       "    <tr>\n",
       "      <th>3</th>\n",
       "      <td>94.0</td>\n",
       "      <td>45.392164</td>\n",
       "      <td>-75.235236</td>\n",
       "      <td>4.0</td>\n",
       "      <td>4.0</td>\n",
       "      <td>36.0</td>\n",
       "      <td>40.0</td>\n",
       "      <td>30.0</td>\n",
       "      <td>6.0</td>\n",
       "      <td>74.0</td>\n",
       "      <td>0.0</td>\n",
       "      <td>37549.0</td>\n",
       "    </tr>\n",
       "    <tr>\n",
       "      <th>4</th>\n",
       "      <td>1283.0</td>\n",
       "      <td>45.496407</td>\n",
       "      <td>-75.183561</td>\n",
       "      <td>4.0</td>\n",
       "      <td>4.0</td>\n",
       "      <td>1.0</td>\n",
       "      <td>50.0</td>\n",
       "      <td>30.0</td>\n",
       "      <td>5.0</td>\n",
       "      <td>60.0</td>\n",
       "      <td>0.0</td>\n",
       "      <td>215851.0</td>\n",
       "    </tr>\n",
       "    <tr>\n",
       "      <th>...</th>\n",
       "      <td>...</td>\n",
       "      <td>...</td>\n",
       "      <td>...</td>\n",
       "      <td>...</td>\n",
       "      <td>...</td>\n",
       "      <td>...</td>\n",
       "      <td>...</td>\n",
       "      <td>...</td>\n",
       "      <td>...</td>\n",
       "      <td>...</td>\n",
       "      <td>...</td>\n",
       "      <td>...</td>\n",
       "    </tr>\n",
       "    <tr>\n",
       "      <th>2892</th>\n",
       "      <td>3139.0</td>\n",
       "      <td>45.541575</td>\n",
       "      <td>-75.126146</td>\n",
       "      <td>5.0</td>\n",
       "      <td>3.0</td>\n",
       "      <td>49.0</td>\n",
       "      <td>40.0</td>\n",
       "      <td>30.0</td>\n",
       "      <td>10.0</td>\n",
       "      <td>42.0</td>\n",
       "      <td>0.0</td>\n",
       "      <td>300314.0</td>\n",
       "    </tr>\n",
       "    <tr>\n",
       "      <th>2893</th>\n",
       "      <td>3388.0</td>\n",
       "      <td>45.479362</td>\n",
       "      <td>-75.218738</td>\n",
       "      <td>1.0</td>\n",
       "      <td>7.0</td>\n",
       "      <td>22.0</td>\n",
       "      <td>40.0</td>\n",
       "      <td>10.0</td>\n",
       "      <td>3.0</td>\n",
       "      <td>61.0</td>\n",
       "      <td>1.0</td>\n",
       "      <td>187695.0</td>\n",
       "    </tr>\n",
       "    <tr>\n",
       "      <th>2894</th>\n",
       "      <td>3426.0</td>\n",
       "      <td>45.504521</td>\n",
       "      <td>-75.275448</td>\n",
       "      <td>5.0</td>\n",
       "      <td>23.0</td>\n",
       "      <td>56.0</td>\n",
       "      <td>40.0</td>\n",
       "      <td>10.0</td>\n",
       "      <td>4.0</td>\n",
       "      <td>38.0</td>\n",
       "      <td>0.0</td>\n",
       "      <td>234608.0</td>\n",
       "    </tr>\n",
       "    <tr>\n",
       "      <th>2895</th>\n",
       "      <td>3085.0</td>\n",
       "      <td>45.551647</td>\n",
       "      <td>-75.291245</td>\n",
       "      <td>0.0</td>\n",
       "      <td>22.0</td>\n",
       "      <td>47.0</td>\n",
       "      <td>40.0</td>\n",
       "      <td>30.0</td>\n",
       "      <td>2.0</td>\n",
       "      <td>33.0</td>\n",
       "      <td>0.0</td>\n",
       "      <td>319062.0</td>\n",
       "    </tr>\n",
       "    <tr>\n",
       "      <th>2896</th>\n",
       "      <td>3944.0</td>\n",
       "      <td>45.481815</td>\n",
       "      <td>-75.122325</td>\n",
       "      <td>4.0</td>\n",
       "      <td>7.0</td>\n",
       "      <td>23.0</td>\n",
       "      <td>20.0</td>\n",
       "      <td>10.0</td>\n",
       "      <td>4.0</td>\n",
       "      <td>96.0</td>\n",
       "      <td>1.0</td>\n",
       "      <td>197091.0</td>\n",
       "    </tr>\n",
       "  </tbody>\n",
       "</table>\n",
       "<p>2833 rows × 12 columns</p>\n",
       "</div>"
      ],
      "text/plain": [
       "          ID   Latitude  Longitude  Day  Hour  Minute  Duration  \\\n",
       "0     1031.0  45.556369 -75.201917  3.0  11.0     9.0      40.0   \n",
       "1      209.0  45.469987 -75.155623  4.0  16.0     8.0      60.0   \n",
       "2     3653.0  45.536579 -75.161880  5.0   8.0    35.0      50.0   \n",
       "3       94.0  45.392164 -75.235236  4.0   4.0    36.0      40.0   \n",
       "4     1283.0  45.496407 -75.183561  4.0   4.0     1.0      50.0   \n",
       "...      ...        ...        ...  ...   ...     ...       ...   \n",
       "2892  3139.0  45.541575 -75.126146  5.0   3.0    49.0      40.0   \n",
       "2893  3388.0  45.479362 -75.218738  1.0   7.0    22.0      40.0   \n",
       "2894  3426.0  45.504521 -75.275448  5.0  23.0    56.0      40.0   \n",
       "2895  3085.0  45.551647 -75.291245  0.0  22.0    47.0      40.0   \n",
       "2896  3944.0  45.481815 -75.122325  4.0   7.0    23.0      20.0   \n",
       "\n",
       "      RemainingTime  Resources  Coverage  OnPeakHours  GridNumber  \n",
       "0              20.0        1.0      86.0          0.0    319073.0  \n",
       "1              10.0        8.0      53.0          0.0    178319.0  \n",
       "2              30.0        8.0      63.0          1.0    290926.0  \n",
       "3              30.0        6.0      74.0          0.0     37549.0  \n",
       "4              30.0        5.0      60.0          0.0    215851.0  \n",
       "...             ...        ...       ...          ...         ...  \n",
       "2892           30.0       10.0      42.0          0.0    300314.0  \n",
       "2893           10.0        3.0      61.0          1.0    187695.0  \n",
       "2894           10.0        4.0      38.0          0.0    234608.0  \n",
       "2895           30.0        2.0      33.0          0.0    319062.0  \n",
       "2896           10.0        4.0      96.0          1.0    197091.0  \n",
       "\n",
       "[2833 rows x 12 columns]"
      ]
     },
     "execution_count": 32,
     "metadata": {},
     "output_type": "execute_result"
    }
   ],
   "source": [
    "index_of_real= y_pred_mixed_from_disc[y_pred_mixed_from_disc[0]==1].index.tolist()\n",
    "filtered_real_tasks= mixed_test_dataset.loc[index_of_real,:]\n",
    "filtered_real_tasks"
   ]
  },
  {
   "cell_type": "code",
   "execution_count": 33,
   "id": "79a1fc45",
   "metadata": {
    "collapsed": false,
    "execution": {
     "iopub.execute_input": "2022-08-28T11:58:16.754766Z",
     "iopub.status.busy": "2022-08-28T11:58:16.753668Z",
     "iopub.status.idle": "2022-08-28T11:58:16.760504Z",
     "shell.execute_reply": "2022-08-28T11:58:16.759556Z"
    },
    "executionInfo": {
     "elapsed": 361,
     "status": "ok",
     "timestamp": 1661601498312,
     "user": {
      "displayName": "girgis micheal",
      "userId": "08835413358043215546"
     },
     "user_tz": -120
    },
    "id": "0e119a4d",
    "jupyter": {
     "outputs_hidden": false
    },
    "papermill": {
     "duration": 0.051464,
     "end_time": "2022-08-28T11:58:16.762890",
     "exception": false,
     "start_time": "2022-08-28T11:58:16.711426",
     "status": "completed"
    },
    "pycharm": {
     "name": "#%%\n"
    },
    "tags": []
   },
   "outputs": [],
   "source": [
    "y_actual_of_filtered_tasks=mixed_y_test.loc[index_of_real,:]\n",
    "# y_actual_of_filtered_tasks"
   ]
  },
  {
   "cell_type": "markdown",
   "id": "4be52e8f",
   "metadata": {
    "id": "e9e092b0",
    "papermill": {
     "duration": 0.039623,
     "end_time": "2022-08-28T11:58:16.843463",
     "exception": false,
     "start_time": "2022-08-28T11:58:16.803840",
     "status": "completed"
    },
    "pycharm": {
     "name": "#%% md\n"
    },
    "tags": []
   },
   "source": [
    "### Using the classic classifiers as a second level after filtering the fake tasks"
   ]
  },
  {
   "cell_type": "code",
   "execution_count": 34,
   "id": "0ec2b013",
   "metadata": {
    "collapsed": false,
    "execution": {
     "iopub.execute_input": "2022-08-28T11:58:16.928213Z",
     "iopub.status.busy": "2022-08-28T11:58:16.927363Z",
     "iopub.status.idle": "2022-08-28T11:58:17.201700Z",
     "shell.execute_reply": "2022-08-28T11:58:17.200589Z"
    },
    "executionInfo": {
     "elapsed": 996,
     "status": "ok",
     "timestamp": 1661601453564,
     "user": {
      "displayName": "girgis micheal",
      "userId": "08835413358043215546"
     },
     "user_tz": -120
    },
    "id": "f3b78a44",
    "jupyter": {
     "outputs_hidden": false
    },
    "outputId": "f339fd12-04a7-4db3-f34a-7b52ba222b2b",
    "papermill": {
     "duration": 0.319741,
     "end_time": "2022-08-28T11:58:17.204299",
     "exception": false,
     "start_time": "2022-08-28T11:58:16.884558",
     "status": "completed"
    },
    "pycharm": {
     "name": "#%%\n"
    },
    "tags": []
   },
   "outputs": [
    {
     "name": "stdout",
     "output_type": "stream",
     "text": [
      "AdaBoostClassifier accuracy for the mixed data = 0.925520649488175\n",
      "RandomForestClassifier accuracy for the mixed data = 0.9925873632192023\n"
     ]
    },
    {
     "data": {
      "text/plain": [
       "<AxesSubplot:>"
      ]
     },
     "execution_count": 34,
     "metadata": {},
     "output_type": "execute_result"
    },
    {
     "data": {
      "image/png": "[encoded data removed]",
      "text/plain": [
       "<Figure size 720x720 with 1 Axes>"
      ]
     },
     "metadata": {
      "needs_background": "light"
     },
     "output_type": "display_data"
    }
   ],
   "source": [
    "y_pred_ada_for_filtered_mixed_test=adaBoostClassifier.predict(filtered_real_tasks)\n",
    "y_pred_rf_for_filtered_mixed_test=randomForestClassifier.predict(filtered_real_tasks)\n",
    "adaboost_accuracy=accuracy_score(y_actual_of_filtered_tasks,y_pred_ada_for_filtered_mixed_test)\n",
    "rf_accuracy=accuracy_score(y_actual_of_filtered_tasks,y_pred_rf_for_filtered_mixed_test)\n",
    "print(f'AdaBoostClassifier accuracy for the mixed data = {adaboost_accuracy}')\n",
    "print(f'RandomForestClassifier accuracy for the mixed data = {rf_accuracy}')\n",
    "plt.figure(figsize=(10,10))\n",
    "plt.ylim(0,1)\n",
    "sns.barplot(x=['AdaBoost','RandomForest'],y=[adaboost_accuracy,rf_accuracy],)"
   ]
  },
  {
   "cell_type": "markdown",
   "id": "d4f381a4",
   "metadata": {
    "id": "t-u3lkzEH-Fa",
    "papermill": {
     "duration": 0.039581,
     "end_time": "2022-08-28T11:58:17.285005",
     "exception": false,
     "start_time": "2022-08-28T11:58:17.245424",
     "status": "completed"
    },
    "tags": []
   },
   "source": [
    "This is approximately the original accuracies before adding the fake tasks, and it's a good results because our discriminator is able to filter the fake tasks and our classic classifiers are now able to classify the real tasks if they ligitimit or not as they used to do"
   ]
  },
  {
   "cell_type": "markdown",
   "id": "51831819",
   "metadata": {
    "id": "12fd57e0",
    "papermill": {
     "duration": 0.040046,
     "end_time": "2022-08-28T11:58:17.365540",
     "exception": false,
     "start_time": "2022-08-28T11:58:17.325494",
     "status": "completed"
    },
    "pycharm": {
     "name": "#%% md\n"
    },
    "tags": []
   },
   "source": [
    "# Conclusion\n",
    "The generated tasks from the generator are robust and succussed to fault the classic ML algorithms because it is tried to generate tasks very close to the real one, so the models can’t determine it and the accuracies has been decreased from 0.92 to 0.575 in the Adaboost model and has been decreased from 0.993 to 0.590 in the Random Forest model.\n",
    "In the cascade approach the discriminator helped the models because it can filter the fake tasks, so after the filtering it out the accuracies increased again to 0.926 in Adaboost and to 0.993 in the Random Forest model and this result is approximately one before mixing which means that the discriminator filtered."
   ]
  },
  {
   "cell_type": "markdown",
   "id": "98fca23b",
   "metadata": {
    "id": "1H3JH3QN9cgT",
    "papermill": {
     "duration": 0.041281,
     "end_time": "2022-08-28T11:58:17.448048",
     "exception": false,
     "start_time": "2022-08-28T11:58:17.406767",
     "status": "completed"
    },
    "tags": []
   },
   "source": [
    "**Resources**\n",
    "1. GAN implementation via keras https://keras.io/examples/generative/conditional_gan/\n",
    "2. GAN implementation via tensorflow https://www.tensorflow.org/tutorials/generative/dcgan\n",
    "3. GAN tutorial https://towardsdatascience.com/generative-adversarial-network-gan-for-dummies-a-step-bystep-tutorial-fdefff170391"
   ]
  }
 ],
 "metadata": {
  "kernelspec": {
   "display_name": "Python 3",
   "language": "python",
   "name": "python3"
  },
  "language_info": {
   "codemirror_mode": {
    "name": "ipython",
    "version": 3
   },
   "file_extension": ".py",
   "mimetype": "text/x-python",
   "name": "python",
   "nbconvert_exporter": "python",
   "pygments_lexer": "ipython3",
   "version": "3.7.12"
  },
  "papermill": {
   "default_parameters": {},
   "duration": 246.394676,
   "end_time": "2022-08-28T11:58:21.089033",
   "environment_variables": {},
   "exception": null,
   "input_path": "__notebook__.ipynb",
   "output_path": "__notebook__.ipynb",
   "parameters": {},
   "start_time": "2022-08-28T11:54:14.694357",
   "version": "2.3.4"
  }
 },
 "nbformat": 4,
 "nbformat_minor": 5
}
